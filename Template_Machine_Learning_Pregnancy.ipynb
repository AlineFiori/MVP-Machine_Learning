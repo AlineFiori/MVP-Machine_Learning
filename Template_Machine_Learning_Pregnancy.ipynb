{
  "nbformat": 4,
  "nbformat_minor": 0,
  "metadata": {
    "colab": {
      "provenance": [],
      "include_colab_link": true
    },
    "kernelspec": {
      "name": "python3",
      "display_name": "Python 3"
    },
    "language_info": {
      "name": "python"
    }
  },
  "cells": [
    {
      "cell_type": "markdown",
      "metadata": {
        "id": "view-in-github",
        "colab_type": "text"
      },
      "source": [
        "<a href=\"https://colab.research.google.com/github/AlineFiori/MVP-Machine_Learning/blob/main/Template_Machine_Learning_Pregnancy.ipynb\" target=\"_parent\"><img src=\"https://colab.research.google.com/assets/colab-badge.svg\" alt=\"Open In Colab\"/></a>"
      ]
    },
    {
      "cell_type": "markdown",
      "source": [
        "# MVP Machine Learning\n",
        "**Nome:** Aline Fiori Gonçalves\n",
        "\n",
        "**Matrícula:** 4052025000106\n",
        "\n",
        "**Dataset:** [Pregnancy](https://www.kaggle.com/datasets/csafrit2/maternal-health-risk-data?resource=download)"
      ],
      "metadata": {
        "id": "cmYX3PLx58Jg"
      }
    },
    {
      "cell_type": "markdown",
      "source": [
        "# 1. Descrição do Problema\n",
        "\n",
        "O conjunto de dados 'Pregnancy' foi compilado com o objetivo de identificar características de saúde em mulheres gestantes que possam indicar risco à gestação. Nele, é possível analisar aspectos cruciais como idade gestacional, pressão arterial, glicemia, frequência cardíaca e a classificação de risco gestacional associada, entre outros."
      ],
      "metadata": {
        "id": "YW_JS-EEBFaR"
      }
    },
    {
      "cell_type": "markdown",
      "source": [
        "## 1.1 Hipóteses do Problema\n",
        "\n",
        "Em relação a idade gestacional 35+ (gestante com 35 anos ou mais):\n",
        "\n",
        "- Qual o percentual deste grupo de risco na amostra avaliada?\n",
        "\n",
        "- Qual o percentual de gestação de alto risco?\n",
        "\n",
        "- Qual a correlação entre a idade materna e o risco gestacional?"
      ],
      "metadata": {
        "id": "Gm6mOo5PBYwr"
      }
    },
    {
      "cell_type": "markdown",
      "source": [
        "## 1.2 Tipo de Problema\n",
        "\n",
        "Este é um problema de **classificação supervisionada**. Dado um conjunto de características (idade gestacional, pressáo arterial, glicemia e frequencia cardiaca), o objetivo é prever a qual o risco gestacional."
      ],
      "metadata": {
        "id": "x1zNNZt6BfdF"
      }
    },
    {
      "cell_type": "markdown",
      "source": [
        "## 1.3 Atributos do Dataset\n",
        "\n",
        "O dataset Pregnancy contém, originalmente, 1.014 amostras, 07 colunas, e 03 classificações diferentes de risco gestacional.\n",
        "\n",
        "Possui cinco atributos:\n",
        "\n",
        "- ***Age*** (idade em anos da gestante)\n",
        "- ***SystolicBP*** (valor máximo da pressão arterial em mmHg)\n",
        "- ***DiastolicBP*** (valor mínimo da pressão arterial em mmHg)\n",
        "- ***BS (Blood Glicose)*** (níveis de glicose no sangue em termos de concentração molar, mmol/L)\n",
        "- ***BodyTemp*** (temperatura corporal em Fahrenheit)\n",
        "- ***HeartRate*** (frequência cardíaca normal em repouso, em batimentos por minuto)\n",
        "- ***Risk Level*** (nível de intensidade de risco previsto durante a gravidez)"
      ],
      "metadata": {
        "id": "FC6QJHhWBnzH"
      }
    },
    {
      "cell_type": "markdown",
      "source": [
        "## 1.4 Seleção de Dados\n",
        "\n",
        "Serão adicionadas duas colunas ao Dataset com a finalidade de refinar a análise dos dados, são elas:\n",
        "- Idade_35+: classificação da idade gestacional em 1 (>=35) ou 0 (<35)\n",
        "- Nivel_Risco_Numerico: classificação do nível de risco em 2 (right risk), 1 (mid risk) e 0 (low risk)."
      ],
      "metadata": {
        "id": "N91bTLbiBxrm"
      }
    },
    {
      "cell_type": "markdown",
      "source": [
        "# 2. Importação das Bibliotecas\n",
        "Esta seção consolida todas as importações de bibliotecas necessárias para a análise, visualização, pré-processamento dos dados e machine learning."
      ],
      "metadata": {
        "id": "DObGnkf0bJBh"
      }
    },
    {
      "cell_type": "code",
      "source": [
        "# ==============================================================================\n",
        "# 1. CONFIGURAÇÃO E BIBLIOTECAS GERAIS\n",
        "# ==============================================================================\n",
        "\n",
        "# Ignora warnings para uma saída mais limpa\n",
        "import warnings\n",
        "warnings.filterwarnings(\"ignore\")\n",
        "\n",
        "# Importa bibliotecas para manipulação e visualização de dados\n",
        "import pandas as pd # Para trabalhar com DataFrames, ideal para dados tabulares\n",
        "import numpy as np # Para operações numéricas e arrays multidimensionais\n",
        "import matplotlib.pyplot as plt # Para criar gráficos estáticos\n",
        "import seaborn as sns # Para criar gráficos estatísticos atraentes e informativos\n",
        "\n",
        "# ==============================================================================\n",
        "# 2. FERRAMENTAS DO SCIKIT-LEARN PARA PRÉ-PROCESSAMENTO E MODELAGEM\n",
        "# ==============================================================================\n",
        "\n",
        "# Módulo de pré-processamento\n",
        "from sklearn.preprocessing import StandardScaler # Padroniza features, essencial para modelos como SVM e RNA\n",
        "from sklearn.pipeline import Pipeline # Permite encadear etapas de processamento e modelagem\n",
        "\n",
        "# Módulo para seleção e avaliação de modelos\n",
        "from sklearn.model_selection import (\n",
        "    train_test_split,    # Divide o dataset em treino e teste\n",
        "    KFold,               # Implementa validação cruzada k-fold\n",
        "    cross_val_score,     # Avalia o desempenho do modelo com validação cruzada\n",
        "    GridSearchCV,        # Otimiza hiperparâmetros buscando a melhor combinação em uma grade\n",
        ")\n",
        "\n",
        "# Módulo de métricas de avaliação\n",
        "from sklearn.metrics import (\n",
        "    accuracy_score,      # Calcula a acurácia de um modelo\n",
        "    classification_report, # Gera um relatório detalhado de métricas de classificação\n",
        "    confusion_matrix,    # Cria a matriz de confusão para analisar erros\n",
        ")\n",
        "\n",
        "# ==============================================================================\n",
        "# 3. ALGORITMOS DE MACHINE LEARNING\n",
        "# ==============================================================================\n",
        "\n",
        "# Modelos de Machine Learning\n",
        "from sklearn.tree import DecisionTreeClassifier # Árvore de Decisão\n",
        "from sklearn.neighbors import KNeighborsClassifier # K-Nearest Neighbors (KNN)\n",
        "from sklearn.naive_bayes import GaussianNB # Naive Bayes\n",
        "from sklearn.svm import SVC # Support Vector Machine (SVM)\n",
        "from sklearn.neural_network import MLPClassifier # Rede Neural (RNA)\n",
        "from sklearn.ensemble import (\n",
        "    RandomForestClassifier,  # Modelo de ensemble que combina várias árvores de decisão\n",
        "    VotingClassifier         # Combina as previsões de múltiplos modelos para um resultado final\n",
        ")\n",
        "\n",
        "# Modelo XGBoost (Gradient Boosting)\n",
        "from xgboost import XGBClassifier # Otimização de modelos baseados em árvore\n",
        "\n",
        "# ==============================================================================\n",
        "# 4. FERRAMENTAS ADICIONAIS\n",
        "# ==============================================================================\n",
        "\n",
        "# Utilidades para salvar e carregar modelos\n",
        "import joblib # Eficiente para salvar modelos treinados\n",
        "\n",
        "\n",
        "from sklearn.preprocessing import MinMaxScaler\n",
        "\n",
        "\n",
        "\n",
        "\n",
        "\n",
        "# Módulo para seleção e avaliação de modelos\n",
        "from sklearn.model_selection import (\n",
        "    train_test_split,    # Divide o dataset em treino e teste\n",
        "    KFold,               # Implementa validação cruzada k-fold\n",
        "    cross_val_score,     # Avalia o desempenho do modelo com validação cruzada\n",
        "    GridSearchCV,        # Otimiza hiperparâmetros buscando a melhor combinação em uma grade\n",
        "    RandomizedSearchCV   # Otimiza hiperparâmetros buscando combinações aleatórias\n",
        ")"
      ],
      "metadata": {
        "id": "tCohWn2jbkDB"
      },
      "execution_count": 1,
      "outputs": []
    },
    {
      "cell_type": "markdown",
      "source": [
        "# 3. Importação do Dataset\n",
        "\n",
        "Esta seção consolida todas as etapas de carregamento inicial do dataset Pregnancy."
      ],
      "metadata": {
        "id": "Cb0ZpQxB1HGu"
      }
    },
    {
      "cell_type": "code",
      "source": [
        "# 1. Link do GitHub em que o dataset 'Pregnancy' está salvo\n",
        "url_github = 'https://github.com/AlineFiori/MVP/raw/refs/heads/main/Maternal%20Health%20Risk%20Data%20Set.csv.xls'"
      ],
      "metadata": {
        "id": "p3DuPNtm6Bam"
      },
      "execution_count": 2,
      "outputs": []
    },
    {
      "cell_type": "code",
      "source": [
        "# 2. Carregar os dados da url para um data frame pandas\n",
        "Dataset = pd.read_csv(url_github)"
      ],
      "metadata": {
        "id": "QYfROr5-9AvT"
      },
      "execution_count": 3,
      "outputs": []
    },
    {
      "cell_type": "code",
      "source": [
        "# 3. Primeiras linhas\n",
        "Dataset.head()"
      ],
      "metadata": {
        "colab": {
          "base_uri": "https://localhost:8080/",
          "height": 224
        },
        "id": "AKb_BDQ6E6sR",
        "outputId": "345a7b47-8fe7-4941-e6dd-9fe9007a2fc6"
      },
      "execution_count": 4,
      "outputs": [
        {
          "output_type": "execute_result",
          "data": {
            "text/plain": [
              "   Age  SystolicBP  DiastolicBP    BS  BodyTemp  HeartRate  RiskLevel\n",
              "0   25         130           80  15.0      98.0         86  high risk\n",
              "1   35         140           90  13.0      98.0         70  high risk\n",
              "2   29          90           70   8.0     100.0         80  high risk\n",
              "3   30         140           85   7.0      98.0         70  high risk\n",
              "4   35         120           60   6.1      98.0         76   low risk"
            ],
            "text/html": [
              "\n",
              "  <div id=\"df-7304ec16-bc5b-4288-a46f-2930b669f3f9\" class=\"colab-df-container\">\n",
              "    <div>\n",
              "<style scoped>\n",
              "    .dataframe tbody tr th:only-of-type {\n",
              "        vertical-align: middle;\n",
              "    }\n",
              "\n",
              "    .dataframe tbody tr th {\n",
              "        vertical-align: top;\n",
              "    }\n",
              "\n",
              "    .dataframe thead th {\n",
              "        text-align: right;\n",
              "    }\n",
              "</style>\n",
              "<table border=\"1\" class=\"dataframe\">\n",
              "  <thead>\n",
              "    <tr style=\"text-align: right;\">\n",
              "      <th></th>\n",
              "      <th>Age</th>\n",
              "      <th>SystolicBP</th>\n",
              "      <th>DiastolicBP</th>\n",
              "      <th>BS</th>\n",
              "      <th>BodyTemp</th>\n",
              "      <th>HeartRate</th>\n",
              "      <th>RiskLevel</th>\n",
              "    </tr>\n",
              "  </thead>\n",
              "  <tbody>\n",
              "    <tr>\n",
              "      <th>0</th>\n",
              "      <td>25</td>\n",
              "      <td>130</td>\n",
              "      <td>80</td>\n",
              "      <td>15.0</td>\n",
              "      <td>98.0</td>\n",
              "      <td>86</td>\n",
              "      <td>high risk</td>\n",
              "    </tr>\n",
              "    <tr>\n",
              "      <th>1</th>\n",
              "      <td>35</td>\n",
              "      <td>140</td>\n",
              "      <td>90</td>\n",
              "      <td>13.0</td>\n",
              "      <td>98.0</td>\n",
              "      <td>70</td>\n",
              "      <td>high risk</td>\n",
              "    </tr>\n",
              "    <tr>\n",
              "      <th>2</th>\n",
              "      <td>29</td>\n",
              "      <td>90</td>\n",
              "      <td>70</td>\n",
              "      <td>8.0</td>\n",
              "      <td>100.0</td>\n",
              "      <td>80</td>\n",
              "      <td>high risk</td>\n",
              "    </tr>\n",
              "    <tr>\n",
              "      <th>3</th>\n",
              "      <td>30</td>\n",
              "      <td>140</td>\n",
              "      <td>85</td>\n",
              "      <td>7.0</td>\n",
              "      <td>98.0</td>\n",
              "      <td>70</td>\n",
              "      <td>high risk</td>\n",
              "    </tr>\n",
              "    <tr>\n",
              "      <th>4</th>\n",
              "      <td>35</td>\n",
              "      <td>120</td>\n",
              "      <td>60</td>\n",
              "      <td>6.1</td>\n",
              "      <td>98.0</td>\n",
              "      <td>76</td>\n",
              "      <td>low risk</td>\n",
              "    </tr>\n",
              "  </tbody>\n",
              "</table>\n",
              "</div>\n",
              "    <div class=\"colab-df-buttons\">\n",
              "\n",
              "  <div class=\"colab-df-container\">\n",
              "    <button class=\"colab-df-convert\" onclick=\"convertToInteractive('df-7304ec16-bc5b-4288-a46f-2930b669f3f9')\"\n",
              "            title=\"Convert this dataframe to an interactive table.\"\n",
              "            style=\"display:none;\">\n",
              "\n",
              "  <svg xmlns=\"http://www.w3.org/2000/svg\" height=\"24px\" viewBox=\"0 -960 960 960\">\n",
              "    <path d=\"M120-120v-720h720v720H120Zm60-500h600v-160H180v160Zm220 220h160v-160H400v160Zm0 220h160v-160H400v160ZM180-400h160v-160H180v160Zm440 0h160v-160H620v160ZM180-180h160v-160H180v160Zm440 0h160v-160H620v160Z\"/>\n",
              "  </svg>\n",
              "    </button>\n",
              "\n",
              "  <style>\n",
              "    .colab-df-container {\n",
              "      display:flex;\n",
              "      gap: 12px;\n",
              "    }\n",
              "\n",
              "    .colab-df-convert {\n",
              "      background-color: #E8F0FE;\n",
              "      border: none;\n",
              "      border-radius: 50%;\n",
              "      cursor: pointer;\n",
              "      display: none;\n",
              "      fill: #1967D2;\n",
              "      height: 32px;\n",
              "      padding: 0 0 0 0;\n",
              "      width: 32px;\n",
              "    }\n",
              "\n",
              "    .colab-df-convert:hover {\n",
              "      background-color: #E2EBFA;\n",
              "      box-shadow: 0px 1px 2px rgba(60, 64, 67, 0.3), 0px 1px 3px 1px rgba(60, 64, 67, 0.15);\n",
              "      fill: #174EA6;\n",
              "    }\n",
              "\n",
              "    .colab-df-buttons div {\n",
              "      margin-bottom: 4px;\n",
              "    }\n",
              "\n",
              "    [theme=dark] .colab-df-convert {\n",
              "      background-color: #3B4455;\n",
              "      fill: #D2E3FC;\n",
              "    }\n",
              "\n",
              "    [theme=dark] .colab-df-convert:hover {\n",
              "      background-color: #434B5C;\n",
              "      box-shadow: 0px 1px 3px 1px rgba(0, 0, 0, 0.15);\n",
              "      filter: drop-shadow(0px 1px 2px rgba(0, 0, 0, 0.3));\n",
              "      fill: #FFFFFF;\n",
              "    }\n",
              "  </style>\n",
              "\n",
              "    <script>\n",
              "      const buttonEl =\n",
              "        document.querySelector('#df-7304ec16-bc5b-4288-a46f-2930b669f3f9 button.colab-df-convert');\n",
              "      buttonEl.style.display =\n",
              "        google.colab.kernel.accessAllowed ? 'block' : 'none';\n",
              "\n",
              "      async function convertToInteractive(key) {\n",
              "        const element = document.querySelector('#df-7304ec16-bc5b-4288-a46f-2930b669f3f9');\n",
              "        const dataTable =\n",
              "          await google.colab.kernel.invokeFunction('convertToInteractive',\n",
              "                                                    [key], {});\n",
              "        if (!dataTable) return;\n",
              "\n",
              "        const docLinkHtml = 'Like what you see? Visit the ' +\n",
              "          '<a target=\"_blank\" href=https://colab.research.google.com/notebooks/data_table.ipynb>data table notebook</a>'\n",
              "          + ' to learn more about interactive tables.';\n",
              "        element.innerHTML = '';\n",
              "        dataTable['output_type'] = 'display_data';\n",
              "        await google.colab.output.renderOutput(dataTable, element);\n",
              "        const docLink = document.createElement('div');\n",
              "        docLink.innerHTML = docLinkHtml;\n",
              "        element.appendChild(docLink);\n",
              "      }\n",
              "    </script>\n",
              "  </div>\n",
              "\n",
              "\n",
              "    <div id=\"df-901b346e-757e-4004-af0c-d7947c275b46\">\n",
              "      <button class=\"colab-df-quickchart\" onclick=\"quickchart('df-901b346e-757e-4004-af0c-d7947c275b46')\"\n",
              "                title=\"Suggest charts\"\n",
              "                style=\"display:none;\">\n",
              "\n",
              "<svg xmlns=\"http://www.w3.org/2000/svg\" height=\"24px\"viewBox=\"0 0 24 24\"\n",
              "     width=\"24px\">\n",
              "    <g>\n",
              "        <path d=\"M19 3H5c-1.1 0-2 .9-2 2v14c0 1.1.9 2 2 2h14c1.1 0 2-.9 2-2V5c0-1.1-.9-2-2-2zM9 17H7v-7h2v7zm4 0h-2V7h2v10zm4 0h-2v-4h2v4z\"/>\n",
              "    </g>\n",
              "</svg>\n",
              "      </button>\n",
              "\n",
              "<style>\n",
              "  .colab-df-quickchart {\n",
              "      --bg-color: #E8F0FE;\n",
              "      --fill-color: #1967D2;\n",
              "      --hover-bg-color: #E2EBFA;\n",
              "      --hover-fill-color: #174EA6;\n",
              "      --disabled-fill-color: #AAA;\n",
              "      --disabled-bg-color: #DDD;\n",
              "  }\n",
              "\n",
              "  [theme=dark] .colab-df-quickchart {\n",
              "      --bg-color: #3B4455;\n",
              "      --fill-color: #D2E3FC;\n",
              "      --hover-bg-color: #434B5C;\n",
              "      --hover-fill-color: #FFFFFF;\n",
              "      --disabled-bg-color: #3B4455;\n",
              "      --disabled-fill-color: #666;\n",
              "  }\n",
              "\n",
              "  .colab-df-quickchart {\n",
              "    background-color: var(--bg-color);\n",
              "    border: none;\n",
              "    border-radius: 50%;\n",
              "    cursor: pointer;\n",
              "    display: none;\n",
              "    fill: var(--fill-color);\n",
              "    height: 32px;\n",
              "    padding: 0;\n",
              "    width: 32px;\n",
              "  }\n",
              "\n",
              "  .colab-df-quickchart:hover {\n",
              "    background-color: var(--hover-bg-color);\n",
              "    box-shadow: 0 1px 2px rgba(60, 64, 67, 0.3), 0 1px 3px 1px rgba(60, 64, 67, 0.15);\n",
              "    fill: var(--button-hover-fill-color);\n",
              "  }\n",
              "\n",
              "  .colab-df-quickchart-complete:disabled,\n",
              "  .colab-df-quickchart-complete:disabled:hover {\n",
              "    background-color: var(--disabled-bg-color);\n",
              "    fill: var(--disabled-fill-color);\n",
              "    box-shadow: none;\n",
              "  }\n",
              "\n",
              "  .colab-df-spinner {\n",
              "    border: 2px solid var(--fill-color);\n",
              "    border-color: transparent;\n",
              "    border-bottom-color: var(--fill-color);\n",
              "    animation:\n",
              "      spin 1s steps(1) infinite;\n",
              "  }\n",
              "\n",
              "  @keyframes spin {\n",
              "    0% {\n",
              "      border-color: transparent;\n",
              "      border-bottom-color: var(--fill-color);\n",
              "      border-left-color: var(--fill-color);\n",
              "    }\n",
              "    20% {\n",
              "      border-color: transparent;\n",
              "      border-left-color: var(--fill-color);\n",
              "      border-top-color: var(--fill-color);\n",
              "    }\n",
              "    30% {\n",
              "      border-color: transparent;\n",
              "      border-left-color: var(--fill-color);\n",
              "      border-top-color: var(--fill-color);\n",
              "      border-right-color: var(--fill-color);\n",
              "    }\n",
              "    40% {\n",
              "      border-color: transparent;\n",
              "      border-right-color: var(--fill-color);\n",
              "      border-top-color: var(--fill-color);\n",
              "    }\n",
              "    60% {\n",
              "      border-color: transparent;\n",
              "      border-right-color: var(--fill-color);\n",
              "    }\n",
              "    80% {\n",
              "      border-color: transparent;\n",
              "      border-right-color: var(--fill-color);\n",
              "      border-bottom-color: var(--fill-color);\n",
              "    }\n",
              "    90% {\n",
              "      border-color: transparent;\n",
              "      border-bottom-color: var(--fill-color);\n",
              "    }\n",
              "  }\n",
              "</style>\n",
              "\n",
              "      <script>\n",
              "        async function quickchart(key) {\n",
              "          const quickchartButtonEl =\n",
              "            document.querySelector('#' + key + ' button');\n",
              "          quickchartButtonEl.disabled = true;  // To prevent multiple clicks.\n",
              "          quickchartButtonEl.classList.add('colab-df-spinner');\n",
              "          try {\n",
              "            const charts = await google.colab.kernel.invokeFunction(\n",
              "                'suggestCharts', [key], {});\n",
              "          } catch (error) {\n",
              "            console.error('Error during call to suggestCharts:', error);\n",
              "          }\n",
              "          quickchartButtonEl.classList.remove('colab-df-spinner');\n",
              "          quickchartButtonEl.classList.add('colab-df-quickchart-complete');\n",
              "        }\n",
              "        (() => {\n",
              "          let quickchartButtonEl =\n",
              "            document.querySelector('#df-901b346e-757e-4004-af0c-d7947c275b46 button');\n",
              "          quickchartButtonEl.style.display =\n",
              "            google.colab.kernel.accessAllowed ? 'block' : 'none';\n",
              "        })();\n",
              "      </script>\n",
              "    </div>\n",
              "\n",
              "    </div>\n",
              "  </div>\n"
            ],
            "application/vnd.google.colaboratory.intrinsic+json": {
              "type": "dataframe",
              "variable_name": "Dataset",
              "summary": "{\n  \"name\": \"Dataset\",\n  \"rows\": 1014,\n  \"fields\": [\n    {\n      \"column\": \"Age\",\n      \"properties\": {\n        \"dtype\": \"number\",\n        \"std\": 13,\n        \"min\": 10,\n        \"max\": 70,\n        \"num_unique_values\": 50,\n        \"samples\": [\n          40,\n          43,\n          13\n        ],\n        \"semantic_type\": \"\",\n        \"description\": \"\"\n      }\n    },\n    {\n      \"column\": \"SystolicBP\",\n      \"properties\": {\n        \"dtype\": \"number\",\n        \"std\": 18,\n        \"min\": 70,\n        \"max\": 160,\n        \"num_unique_values\": 19,\n        \"samples\": [\n          130,\n          110,\n          80\n        ],\n        \"semantic_type\": \"\",\n        \"description\": \"\"\n      }\n    },\n    {\n      \"column\": \"DiastolicBP\",\n      \"properties\": {\n        \"dtype\": \"number\",\n        \"std\": 13,\n        \"min\": 49,\n        \"max\": 100,\n        \"num_unique_values\": 16,\n        \"samples\": [\n          80,\n          90,\n          89\n        ],\n        \"semantic_type\": \"\",\n        \"description\": \"\"\n      }\n    },\n    {\n      \"column\": \"BS\",\n      \"properties\": {\n        \"dtype\": \"number\",\n        \"std\": 3.293531721151271,\n        \"min\": 6.0,\n        \"max\": 19.0,\n        \"num_unique_values\": 29,\n        \"samples\": [\n          6.5,\n          7.7,\n          7.1\n        ],\n        \"semantic_type\": \"\",\n        \"description\": \"\"\n      }\n    },\n    {\n      \"column\": \"BodyTemp\",\n      \"properties\": {\n        \"dtype\": \"number\",\n        \"std\": 1.3713843755995325,\n        \"min\": 98.0,\n        \"max\": 103.0,\n        \"num_unique_values\": 8,\n        \"samples\": [\n          100.0,\n          98.4,\n          98.0\n        ],\n        \"semantic_type\": \"\",\n        \"description\": \"\"\n      }\n    },\n    {\n      \"column\": \"HeartRate\",\n      \"properties\": {\n        \"dtype\": \"number\",\n        \"std\": 8,\n        \"min\": 7,\n        \"max\": 90,\n        \"num_unique_values\": 16,\n        \"samples\": [\n          86,\n          70,\n          77\n        ],\n        \"semantic_type\": \"\",\n        \"description\": \"\"\n      }\n    },\n    {\n      \"column\": \"RiskLevel\",\n      \"properties\": {\n        \"dtype\": \"category\",\n        \"num_unique_values\": 3,\n        \"samples\": [\n          \"high risk\",\n          \"low risk\",\n          \"mid risk\"\n        ],\n        \"semantic_type\": \"\",\n        \"description\": \"\"\n      }\n    }\n  ]\n}"
            }
          },
          "metadata": {},
          "execution_count": 4
        }
      ]
    },
    {
      "cell_type": "markdown",
      "source": [
        "# 4. Análise Exploratória de Dados\n",
        "\n",
        "O objetivo desta etapa é entender a estrutura do dataset, identificar padrões, entender as características das variáveis, o que é crucial para as etapas subsequentes de pré-processamento e modelagem."
      ],
      "metadata": {
        "id": "XcHpQ9s_B4n1"
      }
    },
    {
      "cell_type": "markdown",
      "source": [
        "## 4.1 Estrutura do Dataset"
      ],
      "metadata": {
        "id": "v9HJ3fPH4Fzz"
      }
    },
    {
      "cell_type": "markdown",
      "source": [
        "Etapa de configuracão e adequação dos dados, crucial para os próximos passos de analise de dados e Machine Learning. Tem por objetivo verificar:\n",
        "\n",
        "- Qualidade do Modelo: Modelos de Machine Learning são tão bons quanto os dados com os quais são treinados. Dados mal configurados, com erros, inconsistências ou em formatos inadequados, levarão a modelos com desempenho ruim, previsões imprecisas e decisões erradas.\n",
        "- Interpretabilidade: Dados bem estruturados e limpos facilitam a compreensão dos padrões e a interpretação dos resultados da análise.\n",
        "- Eficiência: Trabalhar com dados limpos e adequados torna o processo de desenvolvimento e teste muito mais eficiente, economizando tempo e recursos.\n",
        "- Consistência: Garante que os dados estejam em um formato consistente para que as ferramentas e algoritmos possam processá-los corretamente."
      ],
      "metadata": {
        "id": "2pJdxE0MHzXy"
      }
    },
    {
      "cell_type": "code",
      "source": [
        "# 1. Renomear colunas para facilitar o uso\n",
        "colunas_para_renomear = {\n",
        "    'Age': 'Idade',\n",
        "    'SystolicBP': 'Pressao_Sistolica',\n",
        "    'DiastolicBP': 'Pressao_Diastolica',\n",
        "    'BS': 'Nivel_Glicose',\n",
        "    'BodyTemp': 'Temperatura_Corporal',\n",
        "    'HeartRate': 'Frequencia_Cardiaca',\n",
        "    'RiskLevel': 'Nivel_Risco'}\n",
        "\n",
        "\n",
        "Dataset = Dataset.rename(columns=colunas_para_renomear)\n",
        "\n",
        "print(\"\\nBase com colunas renomeadas - Primeiras 5 linhas:\")\n",
        "print(Dataset.head())"
      ],
      "metadata": {
        "id": "cvcLmjzHND3T",
        "outputId": "f2915ca9-5d94-407d-c493-9a07a064b873",
        "colab": {
          "base_uri": "https://localhost:8080/"
        }
      },
      "execution_count": 5,
      "outputs": [
        {
          "output_type": "stream",
          "name": "stdout",
          "text": [
            "\n",
            "Base com colunas renomeadas - Primeiras 5 linhas:\n",
            "   Idade  Pressao_Sistolica  Pressao_Diastolica  Nivel_Glicose  \\\n",
            "0     25                130                  80           15.0   \n",
            "1     35                140                  90           13.0   \n",
            "2     29                 90                  70            8.0   \n",
            "3     30                140                  85            7.0   \n",
            "4     35                120                  60            6.1   \n",
            "\n",
            "   Temperatura_Corporal  Frequencia_Cardiaca Nivel_Risco  \n",
            "0                  98.0                   86   high risk  \n",
            "1                  98.0                   70   high risk  \n",
            "2                 100.0                   80   high risk  \n",
            "3                  98.0                   70   high risk  \n",
            "4                  98.0                   76    low risk  \n"
          ]
        }
      ]
    },
    {
      "cell_type": "code",
      "source": [
        "# 2. Criar nova coluna 'Idade_35+' para classificar a idade gestacional\n",
        "# np.where(condição, valor_se_verdadeiro, valor_se_falso)\n",
        "Dataset['Idade_35+'] = np.where(Dataset['Idade'] >= 35, 1, 0) # 1 para >=35 anos, 0 para <35 anos\n",
        "\n",
        "print(\"\\nBase com nova coluna - Primeiras 5 linhas:\")\n",
        "print(Dataset.head())"
      ],
      "metadata": {
        "colab": {
          "base_uri": "https://localhost:8080/"
        },
        "id": "tWVOucMYa-li",
        "outputId": "3868feed-ffe6-4753-8a48-581f366d1376"
      },
      "execution_count": 6,
      "outputs": [
        {
          "output_type": "stream",
          "name": "stdout",
          "text": [
            "\n",
            "Base com nova coluna - Primeiras 5 linhas:\n",
            "   Idade  Pressao_Sistolica  Pressao_Diastolica  Nivel_Glicose  \\\n",
            "0     25                130                  80           15.0   \n",
            "1     35                140                  90           13.0   \n",
            "2     29                 90                  70            8.0   \n",
            "3     30                140                  85            7.0   \n",
            "4     35                120                  60            6.1   \n",
            "\n",
            "   Temperatura_Corporal  Frequencia_Cardiaca Nivel_Risco  Idade_35+  \n",
            "0                  98.0                   86   high risk          0  \n",
            "1                  98.0                   70   high risk          1  \n",
            "2                 100.0                   80   high risk          0  \n",
            "3                  98.0                   70   high risk          0  \n",
            "4                  98.0                   76    low risk          1  \n"
          ]
        }
      ]
    },
    {
      "cell_type": "code",
      "source": [
        "# 3. Verificar todos os valores distintos (sem duplicatas) da coluna Nivel_Risco para classificá-los na sequencia\n",
        "print(\"\\n--- Valores únicos na coluna 'Nivel_Risco': ---\")\n",
        "print(Dataset['Nivel_Risco'].unique())"
      ],
      "metadata": {
        "id": "GMWJLR0P4IuO",
        "outputId": "d9a2dd33-196d-4309-b600-193f1de00063",
        "colab": {
          "base_uri": "https://localhost:8080/"
        }
      },
      "execution_count": 7,
      "outputs": [
        {
          "output_type": "stream",
          "name": "stdout",
          "text": [
            "\n",
            "--- Valores únicos na coluna 'Nivel_Risco': ---\n",
            "['high risk' 'low risk' 'mid risk']\n"
          ]
        }
      ]
    },
    {
      "cell_type": "code",
      "source": [
        "# 4. Criar nova coluna 'Nivel_Risco_Numerico' para classificar o nível de risco\n",
        "\n",
        "def mapear_nivel_risco_para_numerico(row):\n",
        "    if row['Nivel_Risco'] == 'high risk':\n",
        "        return 2\n",
        "    elif row['Nivel_Risco'] == 'mid risk':\n",
        "        return 1\n",
        "    elif row['Nivel_Risco'] == 'low risk': # Correção da sintaxe aqui\n",
        "        return 0\n",
        "    else: # Para qualquer outro valor inesperado\n",
        "        return np.nan # Retorna Not a Number para valores não mapeados\n",
        "\n",
        "# Aplicar a função ao DataFrame e atribuir à nova coluna 'Nivel_Risco_Numerico'\n",
        "Dataset['Nivel_Risco_Numerico'] = Dataset.apply(mapear_nivel_risco_para_numerico, axis=1)\n",
        "\n",
        "print(\"\\nBase com nova coluna - Primeiras 5 linhas:\")\n",
        "print(Dataset.head())"
      ],
      "metadata": {
        "colab": {
          "base_uri": "https://localhost:8080/"
        },
        "id": "OykOYNM6yvob",
        "outputId": "a362bb7e-33d6-4601-9f79-e0a3b4ed2424"
      },
      "execution_count": 8,
      "outputs": [
        {
          "output_type": "stream",
          "name": "stdout",
          "text": [
            "\n",
            "Base com nova coluna - Primeiras 5 linhas:\n",
            "   Idade  Pressao_Sistolica  Pressao_Diastolica  Nivel_Glicose  \\\n",
            "0     25                130                  80           15.0   \n",
            "1     35                140                  90           13.0   \n",
            "2     29                 90                  70            8.0   \n",
            "3     30                140                  85            7.0   \n",
            "4     35                120                  60            6.1   \n",
            "\n",
            "   Temperatura_Corporal  Frequencia_Cardiaca Nivel_Risco  Idade_35+  \\\n",
            "0                  98.0                   86   high risk          0   \n",
            "1                  98.0                   70   high risk          1   \n",
            "2                 100.0                   80   high risk          0   \n",
            "3                  98.0                   70   high risk          0   \n",
            "4                  98.0                   76    low risk          1   \n",
            "\n",
            "   Nivel_Risco_Numerico  \n",
            "0                     2  \n",
            "1                     2  \n",
            "2                     2  \n",
            "3                     2  \n",
            "4                     0  \n"
          ]
        }
      ]
    },
    {
      "cell_type": "code",
      "source": [
        "# 5. Verificar todos os valores distintos (sem duplicatas) da coluna Nivel_Risco_Numerico para checar o resultado da classificação\n",
        "print(\"\\n--- Valores únicos na coluna 'Nivel_Risco': ---\")\n",
        "print(Dataset['Nivel_Risco_Numerico'].unique())"
      ],
      "metadata": {
        "colab": {
          "base_uri": "https://localhost:8080/"
        },
        "id": "swFmJY_25x_o",
        "outputId": "7876276f-3e4b-410a-8f45-8c74bdd82e2d"
      },
      "execution_count": 9,
      "outputs": [
        {
          "output_type": "stream",
          "name": "stdout",
          "text": [
            "\n",
            "--- Valores únicos na coluna 'Nivel_Risco': ---\n",
            "[2 0 1]\n"
          ]
        }
      ]
    },
    {
      "cell_type": "code",
      "source": [
        "# 6. Visão geral: total de linhas e colunas\n",
        "print(f\"Total de instâncias (linhas): {len(Dataset)}\")\n",
        "print(f\"Total de colunas: {len(Dataset.columns)}\")"
      ],
      "metadata": {
        "id": "CBEBmoTSPKDQ",
        "outputId": "b5d476d3-b29c-4338-a9df-0d6a6323ce21",
        "colab": {
          "base_uri": "https://localhost:8080/"
        }
      },
      "execution_count": 10,
      "outputs": [
        {
          "output_type": "stream",
          "name": "stdout",
          "text": [
            "Total de instâncias (linhas): 1014\n",
            "Total de colunas: 9\n"
          ]
        }
      ]
    },
    {
      "cell_type": "code",
      "source": [
        "# 7. Análise de tipos de dados e valores nao nulos\n",
        "print(\"\\nInformações sobre os tipos de dados e valores não nulos\")\n",
        "Dataset.info()"
      ],
      "metadata": {
        "id": "4qM2vPudP2mh",
        "outputId": "63d95c48-eded-4bc8-9c97-1e452d9198aa",
        "colab": {
          "base_uri": "https://localhost:8080/"
        }
      },
      "execution_count": 11,
      "outputs": [
        {
          "output_type": "stream",
          "name": "stdout",
          "text": [
            "\n",
            "Informações sobre os tipos de dados e valores não nulos\n",
            "<class 'pandas.core.frame.DataFrame'>\n",
            "RangeIndex: 1014 entries, 0 to 1013\n",
            "Data columns (total 9 columns):\n",
            " #   Column                Non-Null Count  Dtype  \n",
            "---  ------                --------------  -----  \n",
            " 0   Idade                 1014 non-null   int64  \n",
            " 1   Pressao_Sistolica     1014 non-null   int64  \n",
            " 2   Pressao_Diastolica    1014 non-null   int64  \n",
            " 3   Nivel_Glicose         1014 non-null   float64\n",
            " 4   Temperatura_Corporal  1014 non-null   float64\n",
            " 5   Frequencia_Cardiaca   1014 non-null   int64  \n",
            " 6   Nivel_Risco           1014 non-null   object \n",
            " 7   Idade_35+             1014 non-null   int64  \n",
            " 8   Nivel_Risco_Numerico  1014 non-null   int64  \n",
            "dtypes: float64(2), int64(6), object(1)\n",
            "memory usage: 71.4+ KB\n"
          ]
        }
      ]
    },
    {
      "cell_type": "code",
      "source": [
        "# 8. Verificação de valores ausentes\n",
        "print(\"\\nVerificação de Valores Ausentes\")\n",
        "print(Dataset.isnull().sum())"
      ],
      "metadata": {
        "id": "o9jePjEfQ7vI",
        "outputId": "3a41318f-8ca3-48ea-9c62-909b4f0ef64e",
        "colab": {
          "base_uri": "https://localhost:8080/"
        }
      },
      "execution_count": 12,
      "outputs": [
        {
          "output_type": "stream",
          "name": "stdout",
          "text": [
            "\n",
            "Verificação de Valores Ausentes\n",
            "Idade                   0\n",
            "Pressao_Sistolica       0\n",
            "Pressao_Diastolica      0\n",
            "Nivel_Glicose           0\n",
            "Temperatura_Corporal    0\n",
            "Frequencia_Cardiaca     0\n",
            "Nivel_Risco             0\n",
            "Idade_35+               0\n",
            "Nivel_Risco_Numerico    0\n",
            "dtype: int64\n"
          ]
        }
      ]
    },
    {
      "cell_type": "markdown",
      "source": [
        "## 4.2 Estatística Descritiva"
      ],
      "metadata": {
        "id": "dy0Md-0N4O03"
      }
    },
    {
      "cell_type": "markdown",
      "source": [
        "A etapa de estatística descritiva serve para resumir e organizar os principais aspectos de um conjunto de dados, tornando-o mais compreensível.\n",
        "\n",
        "- Identificar Problemas e Anomalias: Ajuda a detectar valores discrepantes (outliers), erros de entrada, distribuições inesperadas (muito concentradas ou muito espalhadas) ou dados ausentes que precisam ser tratados.\n",
        "\n",
        "- Informar Próximos Passos: As descobertas da estatística descritiva guiam as decisões nas etapas futuras, como:\n",
        "\n",
        "  Qual tipo de pré-processamento usar (padronização, normalização).\n",
        "\n",
        "  Como lidar com valores ausentes ou extremos.\n",
        "\n",
        "  Quais transformações podem ser necessárias para certas variáveis.\n",
        "\n",
        "- Obter Insights Iniciais: Permite identificar tendências, padrões ou relações preliminares entre as variáveis antes de aplicar modelos mais complexos.\n",
        "\n",
        "- Comunicar Características dos Dados: Facilita a comunicação das propriedades do dataset para outras pessoas, sem que elas precisem examinar cada ponto de dado individualmente.\n",
        "\n",
        "Exemplos de estatísticas descritivas comuns:\n",
        "\n",
        "- Medidas de Tendência Central: Média (valor médio), Mediana (valor do meio), Moda (valor mais frequente).\n",
        "\n",
        "- Medidas de Dispersão: Desvio Padrão (quão espalhados os dados estão em relação à média), Variância, Amplitude (diferença entre máximo e mínimo).\n",
        "\n",
        "- Medidas de Posição: Quartis (valores que dividem o dataset em quatro partes iguais), Mínimo e Máximo."
      ],
      "metadata": {
        "id": "SnGXai8rKLHq"
      }
    },
    {
      "cell_type": "code",
      "source": [
        "# 1. Estatística Descritiva - Geral\n",
        "print(\"\\nEstatísticas descritivas das colunas numéricas\")\n",
        "print(Dataset.describe().T) # .T para transpor e facilitar a leitura, prefiro a visualização desta forma"
      ],
      "metadata": {
        "id": "2FVslBW6QEPL",
        "outputId": "04081ac2-69eb-4bd1-935d-8db769daccae",
        "colab": {
          "base_uri": "https://localhost:8080/"
        }
      },
      "execution_count": 13,
      "outputs": [
        {
          "output_type": "stream",
          "name": "stdout",
          "text": [
            "\n",
            "Estatísticas descritivas das colunas numéricas\n",
            "                       count        mean        std   min    25%    50%  \\\n",
            "Idade                 1014.0   29.871795  13.474386  10.0   19.0   26.0   \n",
            "Pressao_Sistolica     1014.0  113.198225  18.403913  70.0  100.0  120.0   \n",
            "Pressao_Diastolica    1014.0   76.460552  13.885796  49.0   65.0   80.0   \n",
            "Nivel_Glicose         1014.0    8.725986   3.293532   6.0    6.9    7.5   \n",
            "Temperatura_Corporal  1014.0   98.665089   1.371384  98.0   98.0   98.0   \n",
            "Frequencia_Cardiaca   1014.0   74.301775   8.088702   7.0   70.0   76.0   \n",
            "Idade_35+             1014.0    0.313609   0.464189   0.0    0.0    0.0   \n",
            "Nivel_Risco_Numerico  1014.0    0.867850   0.807353   0.0    0.0    1.0   \n",
            "\n",
            "                        75%    max  \n",
            "Idade                  39.0   70.0  \n",
            "Pressao_Sistolica     120.0  160.0  \n",
            "Pressao_Diastolica     90.0  100.0  \n",
            "Nivel_Glicose           8.0   19.0  \n",
            "Temperatura_Corporal   98.0  103.0  \n",
            "Frequencia_Cardiaca    80.0   90.0  \n",
            "Idade_35+               1.0    1.0  \n",
            "Nivel_Risco_Numerico    2.0    2.0  \n"
          ]
        }
      ]
    },
    {
      "cell_type": "code",
      "source": [
        "# 2. Estatísticas descritivas agrupadas por tipo de risco\n",
        "Dataset.groupby('Nivel_Risco').describe()"
      ],
      "metadata": {
        "id": "iH6ov-UMHHHJ",
        "colab": {
          "base_uri": "https://localhost:8080/",
          "height": 253
        },
        "outputId": "2ad7a97a-c210-4a5c-cce1-91c51f664c62"
      },
      "execution_count": 14,
      "outputs": [
        {
          "output_type": "execute_result",
          "data": {
            "text/plain": [
              "             Idade                                                      \\\n",
              "             count       mean        std   min   25%   50%   75%   max   \n",
              "Nivel_Risco                                                              \n",
              "high risk    272.0  36.216912  13.032206  12.0  25.0  35.0  48.0  65.0   \n",
              "low risk     406.0  26.869458  13.121661  10.0  17.0  22.0  32.0  70.0   \n",
              "mid risk     336.0  28.363095  12.552660  10.0  19.0  25.0  32.0  60.0   \n",
              "\n",
              "            Pressao_Sistolica              ... Idade_35+       \\\n",
              "                        count        mean  ...       75%  max   \n",
              "Nivel_Risco                                ...                  \n",
              "high risk               272.0  124.194853  ...       1.0  1.0   \n",
              "low risk                406.0  105.866995  ...       0.0  1.0   \n",
              "mid risk                336.0  113.154762  ...       0.0  1.0   \n",
              "\n",
              "            Nivel_Risco_Numerico                                     \n",
              "                           count mean  std  min  25%  50%  75%  max  \n",
              "Nivel_Risco                                                          \n",
              "high risk                  272.0  2.0  0.0  2.0  2.0  2.0  2.0  2.0  \n",
              "low risk                   406.0  0.0  0.0  0.0  0.0  0.0  0.0  0.0  \n",
              "mid risk                   336.0  1.0  0.0  1.0  1.0  1.0  1.0  1.0  \n",
              "\n",
              "[3 rows x 64 columns]"
            ],
            "text/html": [
              "\n",
              "  <div id=\"df-b327662c-b53e-4d96-94fb-eb4018a47027\" class=\"colab-df-container\">\n",
              "    <div>\n",
              "<style scoped>\n",
              "    .dataframe tbody tr th:only-of-type {\n",
              "        vertical-align: middle;\n",
              "    }\n",
              "\n",
              "    .dataframe tbody tr th {\n",
              "        vertical-align: top;\n",
              "    }\n",
              "\n",
              "    .dataframe thead tr th {\n",
              "        text-align: left;\n",
              "    }\n",
              "\n",
              "    .dataframe thead tr:last-of-type th {\n",
              "        text-align: right;\n",
              "    }\n",
              "</style>\n",
              "<table border=\"1\" class=\"dataframe\">\n",
              "  <thead>\n",
              "    <tr>\n",
              "      <th></th>\n",
              "      <th colspan=\"8\" halign=\"left\">Idade</th>\n",
              "      <th colspan=\"2\" halign=\"left\">Pressao_Sistolica</th>\n",
              "      <th>...</th>\n",
              "      <th colspan=\"2\" halign=\"left\">Idade_35+</th>\n",
              "      <th colspan=\"8\" halign=\"left\">Nivel_Risco_Numerico</th>\n",
              "    </tr>\n",
              "    <tr>\n",
              "      <th></th>\n",
              "      <th>count</th>\n",
              "      <th>mean</th>\n",
              "      <th>std</th>\n",
              "      <th>min</th>\n",
              "      <th>25%</th>\n",
              "      <th>50%</th>\n",
              "      <th>75%</th>\n",
              "      <th>max</th>\n",
              "      <th>count</th>\n",
              "      <th>mean</th>\n",
              "      <th>...</th>\n",
              "      <th>75%</th>\n",
              "      <th>max</th>\n",
              "      <th>count</th>\n",
              "      <th>mean</th>\n",
              "      <th>std</th>\n",
              "      <th>min</th>\n",
              "      <th>25%</th>\n",
              "      <th>50%</th>\n",
              "      <th>75%</th>\n",
              "      <th>max</th>\n",
              "    </tr>\n",
              "    <tr>\n",
              "      <th>Nivel_Risco</th>\n",
              "      <th></th>\n",
              "      <th></th>\n",
              "      <th></th>\n",
              "      <th></th>\n",
              "      <th></th>\n",
              "      <th></th>\n",
              "      <th></th>\n",
              "      <th></th>\n",
              "      <th></th>\n",
              "      <th></th>\n",
              "      <th></th>\n",
              "      <th></th>\n",
              "      <th></th>\n",
              "      <th></th>\n",
              "      <th></th>\n",
              "      <th></th>\n",
              "      <th></th>\n",
              "      <th></th>\n",
              "      <th></th>\n",
              "      <th></th>\n",
              "      <th></th>\n",
              "    </tr>\n",
              "  </thead>\n",
              "  <tbody>\n",
              "    <tr>\n",
              "      <th>high risk</th>\n",
              "      <td>272.0</td>\n",
              "      <td>36.216912</td>\n",
              "      <td>13.032206</td>\n",
              "      <td>12.0</td>\n",
              "      <td>25.0</td>\n",
              "      <td>35.0</td>\n",
              "      <td>48.0</td>\n",
              "      <td>65.0</td>\n",
              "      <td>272.0</td>\n",
              "      <td>124.194853</td>\n",
              "      <td>...</td>\n",
              "      <td>1.0</td>\n",
              "      <td>1.0</td>\n",
              "      <td>272.0</td>\n",
              "      <td>2.0</td>\n",
              "      <td>0.0</td>\n",
              "      <td>2.0</td>\n",
              "      <td>2.0</td>\n",
              "      <td>2.0</td>\n",
              "      <td>2.0</td>\n",
              "      <td>2.0</td>\n",
              "    </tr>\n",
              "    <tr>\n",
              "      <th>low risk</th>\n",
              "      <td>406.0</td>\n",
              "      <td>26.869458</td>\n",
              "      <td>13.121661</td>\n",
              "      <td>10.0</td>\n",
              "      <td>17.0</td>\n",
              "      <td>22.0</td>\n",
              "      <td>32.0</td>\n",
              "      <td>70.0</td>\n",
              "      <td>406.0</td>\n",
              "      <td>105.866995</td>\n",
              "      <td>...</td>\n",
              "      <td>0.0</td>\n",
              "      <td>1.0</td>\n",
              "      <td>406.0</td>\n",
              "      <td>0.0</td>\n",
              "      <td>0.0</td>\n",
              "      <td>0.0</td>\n",
              "      <td>0.0</td>\n",
              "      <td>0.0</td>\n",
              "      <td>0.0</td>\n",
              "      <td>0.0</td>\n",
              "    </tr>\n",
              "    <tr>\n",
              "      <th>mid risk</th>\n",
              "      <td>336.0</td>\n",
              "      <td>28.363095</td>\n",
              "      <td>12.552660</td>\n",
              "      <td>10.0</td>\n",
              "      <td>19.0</td>\n",
              "      <td>25.0</td>\n",
              "      <td>32.0</td>\n",
              "      <td>60.0</td>\n",
              "      <td>336.0</td>\n",
              "      <td>113.154762</td>\n",
              "      <td>...</td>\n",
              "      <td>0.0</td>\n",
              "      <td>1.0</td>\n",
              "      <td>336.0</td>\n",
              "      <td>1.0</td>\n",
              "      <td>0.0</td>\n",
              "      <td>1.0</td>\n",
              "      <td>1.0</td>\n",
              "      <td>1.0</td>\n",
              "      <td>1.0</td>\n",
              "      <td>1.0</td>\n",
              "    </tr>\n",
              "  </tbody>\n",
              "</table>\n",
              "<p>3 rows × 64 columns</p>\n",
              "</div>\n",
              "    <div class=\"colab-df-buttons\">\n",
              "\n",
              "  <div class=\"colab-df-container\">\n",
              "    <button class=\"colab-df-convert\" onclick=\"convertToInteractive('df-b327662c-b53e-4d96-94fb-eb4018a47027')\"\n",
              "            title=\"Convert this dataframe to an interactive table.\"\n",
              "            style=\"display:none;\">\n",
              "\n",
              "  <svg xmlns=\"http://www.w3.org/2000/svg\" height=\"24px\" viewBox=\"0 -960 960 960\">\n",
              "    <path d=\"M120-120v-720h720v720H120Zm60-500h600v-160H180v160Zm220 220h160v-160H400v160Zm0 220h160v-160H400v160ZM180-400h160v-160H180v160Zm440 0h160v-160H620v160ZM180-180h160v-160H180v160Zm440 0h160v-160H620v160Z\"/>\n",
              "  </svg>\n",
              "    </button>\n",
              "\n",
              "  <style>\n",
              "    .colab-df-container {\n",
              "      display:flex;\n",
              "      gap: 12px;\n",
              "    }\n",
              "\n",
              "    .colab-df-convert {\n",
              "      background-color: #E8F0FE;\n",
              "      border: none;\n",
              "      border-radius: 50%;\n",
              "      cursor: pointer;\n",
              "      display: none;\n",
              "      fill: #1967D2;\n",
              "      height: 32px;\n",
              "      padding: 0 0 0 0;\n",
              "      width: 32px;\n",
              "    }\n",
              "\n",
              "    .colab-df-convert:hover {\n",
              "      background-color: #E2EBFA;\n",
              "      box-shadow: 0px 1px 2px rgba(60, 64, 67, 0.3), 0px 1px 3px 1px rgba(60, 64, 67, 0.15);\n",
              "      fill: #174EA6;\n",
              "    }\n",
              "\n",
              "    .colab-df-buttons div {\n",
              "      margin-bottom: 4px;\n",
              "    }\n",
              "\n",
              "    [theme=dark] .colab-df-convert {\n",
              "      background-color: #3B4455;\n",
              "      fill: #D2E3FC;\n",
              "    }\n",
              "\n",
              "    [theme=dark] .colab-df-convert:hover {\n",
              "      background-color: #434B5C;\n",
              "      box-shadow: 0px 1px 3px 1px rgba(0, 0, 0, 0.15);\n",
              "      filter: drop-shadow(0px 1px 2px rgba(0, 0, 0, 0.3));\n",
              "      fill: #FFFFFF;\n",
              "    }\n",
              "  </style>\n",
              "\n",
              "    <script>\n",
              "      const buttonEl =\n",
              "        document.querySelector('#df-b327662c-b53e-4d96-94fb-eb4018a47027 button.colab-df-convert');\n",
              "      buttonEl.style.display =\n",
              "        google.colab.kernel.accessAllowed ? 'block' : 'none';\n",
              "\n",
              "      async function convertToInteractive(key) {\n",
              "        const element = document.querySelector('#df-b327662c-b53e-4d96-94fb-eb4018a47027');\n",
              "        const dataTable =\n",
              "          await google.colab.kernel.invokeFunction('convertToInteractive',\n",
              "                                                    [key], {});\n",
              "        if (!dataTable) return;\n",
              "\n",
              "        const docLinkHtml = 'Like what you see? Visit the ' +\n",
              "          '<a target=\"_blank\" href=https://colab.research.google.com/notebooks/data_table.ipynb>data table notebook</a>'\n",
              "          + ' to learn more about interactive tables.';\n",
              "        element.innerHTML = '';\n",
              "        dataTable['output_type'] = 'display_data';\n",
              "        await google.colab.output.renderOutput(dataTable, element);\n",
              "        const docLink = document.createElement('div');\n",
              "        docLink.innerHTML = docLinkHtml;\n",
              "        element.appendChild(docLink);\n",
              "      }\n",
              "    </script>\n",
              "  </div>\n",
              "\n",
              "\n",
              "    <div id=\"df-5f4a8ed9-5c72-47ac-9622-76e3e32e0291\">\n",
              "      <button class=\"colab-df-quickchart\" onclick=\"quickchart('df-5f4a8ed9-5c72-47ac-9622-76e3e32e0291')\"\n",
              "                title=\"Suggest charts\"\n",
              "                style=\"display:none;\">\n",
              "\n",
              "<svg xmlns=\"http://www.w3.org/2000/svg\" height=\"24px\"viewBox=\"0 0 24 24\"\n",
              "     width=\"24px\">\n",
              "    <g>\n",
              "        <path d=\"M19 3H5c-1.1 0-2 .9-2 2v14c0 1.1.9 2 2 2h14c1.1 0 2-.9 2-2V5c0-1.1-.9-2-2-2zM9 17H7v-7h2v7zm4 0h-2V7h2v10zm4 0h-2v-4h2v4z\"/>\n",
              "    </g>\n",
              "</svg>\n",
              "      </button>\n",
              "\n",
              "<style>\n",
              "  .colab-df-quickchart {\n",
              "      --bg-color: #E8F0FE;\n",
              "      --fill-color: #1967D2;\n",
              "      --hover-bg-color: #E2EBFA;\n",
              "      --hover-fill-color: #174EA6;\n",
              "      --disabled-fill-color: #AAA;\n",
              "      --disabled-bg-color: #DDD;\n",
              "  }\n",
              "\n",
              "  [theme=dark] .colab-df-quickchart {\n",
              "      --bg-color: #3B4455;\n",
              "      --fill-color: #D2E3FC;\n",
              "      --hover-bg-color: #434B5C;\n",
              "      --hover-fill-color: #FFFFFF;\n",
              "      --disabled-bg-color: #3B4455;\n",
              "      --disabled-fill-color: #666;\n",
              "  }\n",
              "\n",
              "  .colab-df-quickchart {\n",
              "    background-color: var(--bg-color);\n",
              "    border: none;\n",
              "    border-radius: 50%;\n",
              "    cursor: pointer;\n",
              "    display: none;\n",
              "    fill: var(--fill-color);\n",
              "    height: 32px;\n",
              "    padding: 0;\n",
              "    width: 32px;\n",
              "  }\n",
              "\n",
              "  .colab-df-quickchart:hover {\n",
              "    background-color: var(--hover-bg-color);\n",
              "    box-shadow: 0 1px 2px rgba(60, 64, 67, 0.3), 0 1px 3px 1px rgba(60, 64, 67, 0.15);\n",
              "    fill: var(--button-hover-fill-color);\n",
              "  }\n",
              "\n",
              "  .colab-df-quickchart-complete:disabled,\n",
              "  .colab-df-quickchart-complete:disabled:hover {\n",
              "    background-color: var(--disabled-bg-color);\n",
              "    fill: var(--disabled-fill-color);\n",
              "    box-shadow: none;\n",
              "  }\n",
              "\n",
              "  .colab-df-spinner {\n",
              "    border: 2px solid var(--fill-color);\n",
              "    border-color: transparent;\n",
              "    border-bottom-color: var(--fill-color);\n",
              "    animation:\n",
              "      spin 1s steps(1) infinite;\n",
              "  }\n",
              "\n",
              "  @keyframes spin {\n",
              "    0% {\n",
              "      border-color: transparent;\n",
              "      border-bottom-color: var(--fill-color);\n",
              "      border-left-color: var(--fill-color);\n",
              "    }\n",
              "    20% {\n",
              "      border-color: transparent;\n",
              "      border-left-color: var(--fill-color);\n",
              "      border-top-color: var(--fill-color);\n",
              "    }\n",
              "    30% {\n",
              "      border-color: transparent;\n",
              "      border-left-color: var(--fill-color);\n",
              "      border-top-color: var(--fill-color);\n",
              "      border-right-color: var(--fill-color);\n",
              "    }\n",
              "    40% {\n",
              "      border-color: transparent;\n",
              "      border-right-color: var(--fill-color);\n",
              "      border-top-color: var(--fill-color);\n",
              "    }\n",
              "    60% {\n",
              "      border-color: transparent;\n",
              "      border-right-color: var(--fill-color);\n",
              "    }\n",
              "    80% {\n",
              "      border-color: transparent;\n",
              "      border-right-color: var(--fill-color);\n",
              "      border-bottom-color: var(--fill-color);\n",
              "    }\n",
              "    90% {\n",
              "      border-color: transparent;\n",
              "      border-bottom-color: var(--fill-color);\n",
              "    }\n",
              "  }\n",
              "</style>\n",
              "\n",
              "      <script>\n",
              "        async function quickchart(key) {\n",
              "          const quickchartButtonEl =\n",
              "            document.querySelector('#' + key + ' button');\n",
              "          quickchartButtonEl.disabled = true;  // To prevent multiple clicks.\n",
              "          quickchartButtonEl.classList.add('colab-df-spinner');\n",
              "          try {\n",
              "            const charts = await google.colab.kernel.invokeFunction(\n",
              "                'suggestCharts', [key], {});\n",
              "          } catch (error) {\n",
              "            console.error('Error during call to suggestCharts:', error);\n",
              "          }\n",
              "          quickchartButtonEl.classList.remove('colab-df-spinner');\n",
              "          quickchartButtonEl.classList.add('colab-df-quickchart-complete');\n",
              "        }\n",
              "        (() => {\n",
              "          let quickchartButtonEl =\n",
              "            document.querySelector('#df-5f4a8ed9-5c72-47ac-9622-76e3e32e0291 button');\n",
              "          quickchartButtonEl.style.display =\n",
              "            google.colab.kernel.accessAllowed ? 'block' : 'none';\n",
              "        })();\n",
              "      </script>\n",
              "    </div>\n",
              "\n",
              "    </div>\n",
              "  </div>\n"
            ],
            "application/vnd.google.colaboratory.intrinsic+json": {
              "type": "dataframe"
            }
          },
          "metadata": {},
          "execution_count": 14
        }
      ]
    },
    {
      "cell_type": "markdown",
      "source": [
        "**Descrição dos Campos de Estatística Descritiva**\n",
        "\n",
        "count = contagem de registros do dataset\n",
        "\n",
        "mean = média\n",
        "\n",
        "std = desvio padrão\n",
        "\n",
        "min = valor mínimo da categoria\n",
        "\n",
        "25% = valor de 25% dos registros da categoria\n",
        "\n",
        "75% = valor de 75% dos registros da categoria\n",
        "\n",
        "max = valor máximo da categoria"
      ],
      "metadata": {
        "id": "UDQevY3J6E8H"
      }
    },
    {
      "cell_type": "code",
      "source": [
        "# 3. Calcular o % de gestantes com idade >= 35 anos\n",
        "\n",
        "# Calcular a contagem de valores para 'Idade_35+' e normalizar para obter proporções\n",
        "proportions_idade2 = Dataset['Idade_35+'].value_counts(normalize=True)\n",
        "\n",
        "# Obter o percentual de '1' (gestantes com 35+ anos)\n",
        "percent_idade2_equals_1 = proportions_idade2.get(1, 0) * 100 # .get(1, 0) para lidar se não houver '1's\n",
        "\n",
        "print(f\"Contagem de valores para 'Idade_35+':\")\n",
        "print(Dataset['Idade_35+'].value_counts())\n",
        "\n",
        "print(f\"\\nPercentual de gestantes com 35 anos ou mais (Idade_35+ = 1): {percent_idade2_equals_1:.2f}%\")\n",
        "\n",
        "# Se quiser ver todas as proporções:\n",
        "print(\"\\nProporções de 'Idade_35+':\")\n",
        "print(proportions_idade2)"
      ],
      "metadata": {
        "colab": {
          "base_uri": "https://localhost:8080/"
        },
        "id": "obAdmSpnenay",
        "outputId": "61492ddd-6506-4c06-f857-d63326080083"
      },
      "execution_count": 15,
      "outputs": [
        {
          "output_type": "stream",
          "name": "stdout",
          "text": [
            "Contagem de valores para 'Idade_35+':\n",
            "Idade_35+\n",
            "0    696\n",
            "1    318\n",
            "Name: count, dtype: int64\n",
            "\n",
            "Percentual de gestantes com 35 anos ou mais (Idade_35+ = 1): 31.36%\n",
            "\n",
            "Proporções de 'Idade_35+':\n",
            "Idade_35+\n",
            "0    0.686391\n",
            "1    0.313609\n",
            "Name: proportion, dtype: float64\n"
          ]
        }
      ]
    },
    {
      "cell_type": "markdown",
      "source": [
        "## 4.3 Análise de Variáveis Numéricas e Categóricas"
      ],
      "metadata": {
        "id": "uabqXXr12ooZ"
      }
    },
    {
      "cell_type": "markdown",
      "source": [
        "A análise de variáveis numéricas e categóricas é fundamental para extrair insights iniciais, validar hipóteses e guiar as próximas etapas do desenvolvimento do projeto. Entender a natureza e o comportamento de cada tipo de variável permite construir uma base sólida para modelos mais complexos e decisões estratégicas."
      ],
      "metadata": {
        "id": "vxJKIUEYqgSt"
      }
    },
    {
      "cell_type": "code",
      "source": [
        "# 1. Análise da frequencia de distribuição de idade no dataset\n",
        "\n",
        "plt.figure(figsize=(8, 6))\n",
        "# Histograma do comprimento da sépala (um dos atributos)\n",
        "sns.histplot(Dataset['Idade'], kde=True)\n",
        "plt.title('Histograma de Idade')\n",
        "plt.xlabel('Idade')\n",
        "plt.ylabel('Frequencia')\n",
        "plt.show()"
      ],
      "metadata": {
        "colab": {
          "base_uri": "https://localhost:8080/",
          "height": 54
        },
        "id": "xFULQrKiGPqj",
        "outputId": "3943335a-e92b-4b31-9feb-4735c49bdf7c"
      },
      "execution_count": 16,
      "outputs": [
        {
          "output_type": "display_data",
          "data": {
            "text/plain": [
              "<Figure size 800x600 with 1 Axes>"
            ],
            "image/png": "[encoded data removed]"
          },
          "metadata": {}
        }
      ]
    },
    {
      "cell_type": "markdown",
      "source": [
        "**Gráfico: Histograma de Idade**\n",
        "\n",
        "O gráfico mostra que há maior volume de dados de gestantes com idade inferior a 35 anos."
      ],
      "metadata": {
        "id": "9Wjg9LnpwBFD"
      }
    },
    {
      "cell_type": "code",
      "source": [
        "# 2. Análise do % de idade gestacional 35+\n",
        "\n",
        "# Calcular a contagem de valores para 'Idade_35+' e normalizar para obter percentuais\n",
        "proportions_idade35_plus = Dataset['Idade_35+'].value_counts(normalize=True) * 100\n",
        "\n",
        "# Preparar os dados para o gráfico de barras\n",
        "plot_data = pd.DataFrame({\n",
        "    'Grupo Idade': ['Idade < 35 anos', 'Idade >= 35 anos'], # Rótulos claros para o gráfico\n",
        "    'Percentual': [proportions_idade35_plus.get(0, 0), proportions_idade35_plus.get(1, 0)]\n",
        "})\n",
        "\n",
        "# Criar o gráfico de barras\n",
        "plt.figure(figsize=(9, 6)) # Aumentar ligeiramente o tamanho para melhor visualização\n",
        "sns.barplot(x='Grupo Idade', y='Percentual', data=plot_data)\n",
        "            #palette='viridis') # 'viridis' é uma boa paleta de cores\n",
        "\n",
        "# Adicionar rótulos de percentual nas barras para clareza\n",
        "for index, row in plot_data.iterrows():\n",
        "    plt.text(index, row.Percentual, f'{row.Percentual:.2f}%',\n",
        "             color='black', ha=\"center\", va='bottom', fontsize=12)\n",
        "\n",
        "plt.title('Percentual de Gestantes por Faixa Etária', fontsize=14)\n",
        "plt.xlabel('Faixa Etária', fontsize=12)\n",
        "plt.ylabel('Percentual de Gestantes (%)', fontsize=12)\n",
        "plt.ylim(0, 100) # Garantir que o eixo Y vá de 0 a 100%\n",
        "plt.grid(axis='y', linestyle='--', alpha=0.7) # Adicionar grade para facilitar a leitura\n",
        "plt.xticks(fontsize=11)\n",
        "\n",
        "# Mostrar o gráfico\n",
        "plt.show()"
      ],
      "metadata": {
        "colab": {
          "base_uri": "https://localhost:8080/",
          "height": 54
        },
        "id": "tkFrYB90jFUJ",
        "outputId": "0b473485-068d-4aa2-8274-f56792f36093"
      },
      "execution_count": 17,
      "outputs": [
        {
          "output_type": "display_data",
          "data": {
            "text/plain": [
              "<Figure size 900x600 with 1 Axes>"
            ],
            "image/png": "[encoded data removed]"
          },
          "metadata": {}
        }
      ]
    },
    {
      "cell_type": "markdown",
      "source": [
        "**Gráfico: Percentual de Gestantes por Faixa Etária**\n",
        "\n",
        "Confirmando a análise do gráfico anterior, que evidencia que o maior volume de dados são de gestantes com idade inferior a 35 anos, do total de dados da base:\n",
        "- 68,64% dos dados são de gestantes com idade inferior a 35 anos\n",
        "- 31,36% dos dados são de gestantes com idade superior ou igual a 35 anos."
      ],
      "metadata": {
        "id": "HcwA_djcwaBr"
      }
    },
    {
      "cell_type": "code",
      "source": [
        "# 3. Análise da idade em relação ao risco gestacional\n",
        "# Gráfico Boxplot\n",
        "plt.figure(figsize=(10, 6))\n",
        "sns.boxplot(x='Nivel_Risco', y='Idade', data=Dataset, order=['low risk', 'mid risk', 'high risk'])\n",
        "\n",
        "# Correcting the title and labels\n",
        "plt.title('Idade por Nível de Risco')\n",
        "plt.xlabel('Nível de Risco')\n",
        "plt.ylabel('Idade')\n",
        "plt.tight_layout()\n",
        "plt.show()"
      ],
      "metadata": {
        "id": "CXYVIeNfHHHJ",
        "colab": {
          "base_uri": "https://localhost:8080/",
          "height": 54
        },
        "outputId": "4c57d86a-631f-4217-dce8-a6b2a9093d53"
      },
      "execution_count": 18,
      "outputs": [
        {
          "output_type": "display_data",
          "data": {
            "text/plain": [
              "<Figure size 1000x600 with 1 Axes>"
            ],
            "image/png": "[encoded data removed]"
          },
          "metadata": {}
        }
      ]
    },
    {
      "cell_type": "markdown",
      "source": [
        "**Gráfico: Idade por Nível de Risco**\n",
        "\n",
        "Este gráfico demonstra que temos 03 categorias de risco:\n",
        "- Low Risk\n",
        "- Mid Risk\n",
        "- High Risk\n",
        "\n",
        "Sendo o maior risco gestacional (Hight Risk) concentrado em idades >= 35 anos."
      ],
      "metadata": {
        "id": "IFcRuVJDxknz"
      }
    },
    {
      "cell_type": "code",
      "source": [
        "# 4. Análise do % de nível de risco por idade\n",
        "\n",
        "# Gráfico Barras\n",
        "\n",
        "# 1. Calcular os percentuais para o dataset total\n",
        "percent_total = Dataset['Nivel_Risco'].value_counts(normalize=True) * 100\n",
        "# Transformar em DataFrame para facilitar a manipulação\n",
        "percent_total_df = percent_total.reset_index()\n",
        "percent_total_df.columns = ['Nivel_Risco', 'Percentage']\n",
        "\n",
        "# 2. Filtrar o DataFrame para idade maior que 35\n",
        "df_age_gt_35 = Dataset[Dataset['Idade'] >= 35]\n",
        "\n",
        "# 3. Calcular os percentuais para o dataset filtrado (idade > 35)\n",
        "percent_age_gt_35 = df_age_gt_35['Nivel_Risco'].value_counts(normalize=True) * 100\n",
        "# Transformar em DataFrame\n",
        "percent_age_gt_35_df = percent_age_gt_35.reset_index()\n",
        "percent_age_gt_35_df.columns = ['Nivel_Risco', 'Percentage']\n",
        "\n",
        "# Obter os níveis de risco únicos para os rótulos do eixo X\n",
        "risk_levels = sorted(percent_total_df['Nivel_Risco'].unique())\n",
        "\n",
        "# Configurações para o gráfico\n",
        "width = 0.35 # Largura das barras\n",
        "x_pos = range(len(risk_levels)) # Posições para as barras no eixo X\n",
        "\n",
        "# Criar a figura e os eixos\n",
        "fig, ax = plt.subplots(figsize=(10, 6))\n",
        "\n",
        "# Plotar as barras para o dataset total\n",
        "bars_total = ax.bar([p - width/2 for p in x_pos], percent_total_df['Percentage'], width, label='Total Dataset', color='skyblue')\n",
        "\n",
        "# Plotar as barras para o dataset filtrado (idade > 35)\n",
        "bars_age_gt_35 = ax.bar([p + width/2 for p in x_pos], percent_age_gt_35_df['Percentage'], width, label='Idade > 35 anos', color='lightcoral')\n",
        "\n",
        "# Adicionar rótulos, título e legenda\n",
        "ax.set_xlabel('Nível de Risco')\n",
        "ax.set_ylabel('Porcentagem (%)')\n",
        "ax.set_title('Comparação % do Nível de Risco por Idade')\n",
        "ax.set_xticks(x_pos)\n",
        "ax.set_xticklabels(risk_levels)\n",
        "ax.legend()\n",
        "ax.grid(axis='y', linestyle='--', alpha=0.7)\n",
        "\n",
        "# Adicionar os valores percentuais nas barras\n",
        "def autolabel(bars):\n",
        "    for bar in bars:\n",
        "        height = bar.get_height()\n",
        "        ax.annotate(f'{height:.1f}%',\n",
        "                    xy=(bar.get_x() + bar.get_width() / 2, height),\n",
        "                    xytext=(0, 3),  # 3 points vertical offset\n",
        "                    textcoords=\"offset points\",\n",
        "                    ha='center', va='bottom')\n",
        "\n",
        "autolabel(bars_total)\n",
        "autolabel(bars_age_gt_35)\n",
        "\n",
        "\n",
        "# Mostrar o gráfico\n",
        "plt.show()\n"
      ],
      "metadata": {
        "colab": {
          "base_uri": "https://localhost:8080/",
          "height": 54
        },
        "id": "EJVwQn37hSsv",
        "outputId": "6d5efd7e-d6bf-4570-e1ac-6910084a6bd7"
      },
      "execution_count": 19,
      "outputs": [
        {
          "output_type": "display_data",
          "data": {
            "text/plain": [
              "<Figure size 1000x600 with 1 Axes>"
            ],
            "image/png": "[encoded data removed]"
          },
          "metadata": {}
        }
      ]
    },
    {
      "cell_type": "markdown",
      "source": [
        "**Gráfico: Comparação % do Nível de Risco por Idade**\n",
        "\n",
        "Este gráfico de barras evidencia que temos 03 categorias de riscos:\n",
        "- High Risk\n",
        "- Mid Risk\n",
        "- Low Risk\n",
        "\n",
        "Sendo a categoria de maior risco (Righ Risk) a que tem maior quantidade de gestantes com idade >= 35 anos, representando 48,4%."
      ],
      "metadata": {
        "id": "5VVAMJ3MHKVe"
      }
    },
    {
      "cell_type": "markdown",
      "source": [
        "## 4.4 Matriz de Correlação\n",
        "\n",
        "É uma ferramenta de suma importância, quase indispensável, para compreender as relações entre as variáveis numéricas do conjunto de dados. Ela serve como um mapa rápido e eficiente para identificar padrões, dependências e possíveis problemas antes de mergulhar em análises mais complexas ou na construção de modelos.As correlações positivas indicam que as variáveis tendem a se mover na mesma direção.\n",
        "\n",
        "As correlações negativas indicam que elas tendem a se mover em direções opostas.\n",
        "\n",
        "A força da correlação (o quão perto de 1 ou -1 o valor está) indica o quão forte é essa relação linear."
      ],
      "metadata": {
        "id": "3_ERHJAPEZAt"
      }
    },
    {
      "cell_type": "code",
      "source": [
        "# 1. Matriz de Correlação\n",
        "\n",
        "# Definir colunas numéricas\n",
        "numeric_cols = [\n",
        "    'Idade',\n",
        "    'Pressao_Sistolica',\n",
        "    'Pressao_Diastolica',\n",
        "    'Nivel_Glicose',\n",
        "    'Temperatura_Corporal',\n",
        "    'Frequencia_Cardiaca',\n",
        "    'Idade_35+',\n",
        "    'Nivel_Risco_Numerico'\n",
        "]\n",
        "\n",
        "\n",
        "# Calcular a matriz de correlação\n",
        "matriz_correlacao = Dataset[numeric_cols].corr()\n",
        "\n",
        "# Mostrar resultado da matriz de correlação\n",
        "print(\"\\n--- Matriz de Correlação das Características Numéricas ---\")\n",
        "print(matriz_correlacao)\n"
      ],
      "metadata": {
        "colab": {
          "base_uri": "https://localhost:8080/"
        },
        "id": "ap4pNENRo_d-",
        "outputId": "27c1edc0-dc36-4884-8494-cd42bca65f1e"
      },
      "execution_count": 20,
      "outputs": [
        {
          "output_type": "stream",
          "name": "stdout",
          "text": [
            "\n",
            "--- Matriz de Correlação das Características Numéricas ---\n",
            "                         Idade  Pressao_Sistolica  Pressao_Diastolica  \\\n",
            "Idade                 1.000000           0.416045            0.398026   \n",
            "Pressao_Sistolica     0.416045           1.000000            0.787006   \n",
            "Pressao_Diastolica    0.398026           0.787006            1.000000   \n",
            "Nivel_Glicose         0.473284           0.425172            0.423824   \n",
            "Temperatura_Corporal -0.255323          -0.286616           -0.257538   \n",
            "Frequencia_Cardiaca   0.079798          -0.023108           -0.046151   \n",
            "Idade_35+             0.858554           0.326090            0.347741   \n",
            "Nivel_Risco_Numerico  0.267225           0.396473            0.346649   \n",
            "\n",
            "                      Nivel_Glicose  Temperatura_Corporal  \\\n",
            "Idade                      0.473284             -0.255323   \n",
            "Pressao_Sistolica          0.425172             -0.286616   \n",
            "Pressao_Diastolica         0.423824             -0.257538   \n",
            "Nivel_Glicose              1.000000             -0.103493   \n",
            "Temperatura_Corporal      -0.103493              1.000000   \n",
            "Frequencia_Cardiaca        0.142867              0.098771   \n",
            "Idade_35+                  0.499476             -0.213223   \n",
            "Nivel_Risco_Numerico       0.569942              0.163984   \n",
            "\n",
            "                      Frequencia_Cardiaca  Idade_35+  Nivel_Risco_Numerico  \n",
            "Idade                            0.079798   0.858554              0.267225  \n",
            "Pressao_Sistolica               -0.023108   0.326090              0.396473  \n",
            "Pressao_Diastolica              -0.046151   0.347741              0.346649  \n",
            "Nivel_Glicose                    0.142867   0.499476              0.569942  \n",
            "Temperatura_Corporal             0.098771  -0.213223              0.163984  \n",
            "Frequencia_Cardiaca              1.000000   0.038395              0.194312  \n",
            "Idade_35+                        0.038395   1.000000              0.271375  \n",
            "Nivel_Risco_Numerico             0.194312   0.271375              1.000000  \n"
          ]
        }
      ]
    },
    {
      "cell_type": "code",
      "source": [
        "# 2. Gerar e exibir o mapa de calor\n",
        "plt.figure(figsize=(8, 6))\n",
        "sns.heatmap(matriz_correlacao, annot=True, cmap='coolwarm', fmt=\".2f\")\n",
        "plt.title('Matriz de Correlação das Características Numéricas')\n",
        "plt.show()"
      ],
      "metadata": {
        "colab": {
          "base_uri": "https://localhost:8080/",
          "height": 54
        },
        "id": "0eTVxHMk3MeH",
        "outputId": "8bae0195-9b24-415f-c9e6-472457d57452"
      },
      "execution_count": 21,
      "outputs": [
        {
          "output_type": "display_data",
          "data": {
            "text/plain": [
              "<Figure size 800x600 with 2 Axes>"
            ],
            "image/png": "[encoded data removed]"
          },
          "metadata": {}
        }
      ]
    },
    {
      "cell_type": "markdown",
      "source": [
        "**Análise da Matriz de Correlação das Características Numéricas**\n",
        "\n",
        "1. Aspectos mais relevantes da matriz:\n",
        "\n",
        "- Nivel_Glicose (0.569942): Esta é a correlação positiva mais forte com o nível de risco. Indica que quanto maior o Nível de Glicose, maior o risco gestacional.\n",
        "\n",
        "- Pressao_Sistolica (0.396473): Correlação positiva moderada. Indica que quanto maior a Pressão Sistólica, maior o risco gestacional.\n",
        "\n",
        "- Pressao_Diastolica (0.346649): Correlação positiva moderada. Indica que quanto maior a Pressão Diastólica, maior o risco gestacional.\n",
        "\n",
        "- Idade_35+ (0.271375): Correlação positiva moderada a fraca. Sugere que estar no grupo 35+ está associado a um maior risco gestacional, porém a idade deve ser associada a outros fatores para que aumente sua correlação\n",
        "\n",
        "- Frequencia_Cardiaca (0.194312): Correlação positiva fraca. Sugere que uma Frequência Cardíaca mais alta está associada a um risco gestacional ligeiramente maior.\n",
        "\n",
        "- Temperatura_Corporal (0.163984): Correlação positiva muito fraca. Indica uma associação muito branda entre temperatura corporal mais alta e maior risco.\n",
        "\n",
        "\n",
        "2. Correlação Entre as Features (Multicolinearidade):\n",
        "\n",
        "- Idade e Idade_35+: 0.858554\n",
        "\n",
        "- Pressao_Sistolica e Pressao_Diastolica: 0.787006\n",
        "\n",
        "Estas são correlações muito fortes e positivas. Em alguns modelos (como regressão linear), deve ser levado em consideração usar apenas uma delas para evitar redundância, mas em outros (como Random Forests), isso é menos problemático."
      ],
      "metadata": {
        "id": "M8OdE0BZ46jw"
      }
    },
    {
      "cell_type": "code",
      "source": [
        "# 3. Matriz de correlação de idade x risco gestacional\n",
        "\n",
        "# Filtrar o DataFrame para incluir apenas pessoas com idade maior ou igual a 35\n",
        "df_idade_maior_35 = Dataset[Dataset['Idade'] >= 35].copy() # .copy() para evitar SettingWithCopyWarning\n",
        "\n",
        "# Selecionar as colunas para a matriz de correlação\n",
        "colunas_para_correlacao_df = df_idade_maior_35[['Idade', 'Nivel_Risco_Numerico']]\n",
        "\n",
        "# Calcular a matriz de correlação\n",
        "matriz_correlacao_idade_risco = colunas_para_correlacao_df.corr()\n",
        "\n",
        "print(\"\\nMatriz de Correlação para Idade >= 35 e Risco Gestacional:\")\n",
        "print(matriz_correlacao_idade_risco)\n",
        "\n",
        "# --- Gerar o Heatmap da Matriz de Correlação ---\n",
        "plt.figure(figsize=(6, 5)) # Define o tamanho da figura\n",
        "sns.heatmap(matriz_correlacao_idade_risco,\n",
        "            annot=True,      # Mostra os valores de correlação no mapa\n",
        "            cmap='coolwarm', # Escolhe um mapa de cores (coolwarm é bom para correlação)\n",
        "            fmt=\".2f\",       # Formato dos números (2 casas decimais)\n",
        "            linewidths=.5)   # Largura das linhas entre as células\n",
        "\n",
        "plt.title('Correlação entre Idade e Nível de Risco (Idade >= 35)', fontsize=14)\n",
        "plt.show()"
      ],
      "metadata": {
        "colab": {
          "base_uri": "https://localhost:8080/",
          "height": 139
        },
        "id": "cKQTr2_cWqrH",
        "outputId": "3b360b17-87d6-4559-c69d-f6aa5ce4c87a"
      },
      "execution_count": 22,
      "outputs": [
        {
          "output_type": "stream",
          "name": "stdout",
          "text": [
            "\n",
            "Matriz de Correlação para Idade >= 35 e Risco Gestacional:\n",
            "                         Idade  Nivel_Risco_Numerico\n",
            "Idade                 1.000000             -0.117465\n",
            "Nivel_Risco_Numerico -0.117465              1.000000\n"
          ]
        },
        {
          "output_type": "display_data",
          "data": {
            "text/plain": [
              "<Figure size 600x500 with 2 Axes>"
            ],
            "image/png": "[encoded data removed]"
          },
          "metadata": {}
        }
      ]
    },
    {
      "cell_type": "markdown",
      "source": [
        "**Análise da Matriz de Correlação Idade 35+ e Risco Gestacional**\n",
        "\n",
        "Essa matriz mostra uma correlação fraca entre idade gestacional 35+ e risco gestacional. Com isso é possível inferir que apesar de a idade gestacional ser um fator importante, ela precisa ser associada a outros fatores de saúde para determinar o risco gestacional."
      ],
      "metadata": {
        "id": "s3fkrLiR6FB9"
      }
    },
    {
      "cell_type": "markdown",
      "source": [
        "#5. Pré-Processamento"
      ],
      "metadata": {
        "id": "-nFlx1BEpnB-"
      }
    },
    {
      "cell_type": "markdown",
      "source": [
        "##5.1 Seleção do Tipo de Problema"
      ],
      "metadata": {
        "id": "DwFpyatgquAd"
      }
    },
    {
      "cell_type": "code",
      "source": [
        "# Defina a seed para reprodutibilidade\n",
        "SEED = 7\n",
        "\n",
        "# ==============================================================================\n",
        "# 1. ADAPTAÇÃO PARA O PROBLEMA DE CLASSIFICAÇÃO\n",
        "# ==============================================================================\n",
        "\n",
        "# Selecione o tipo de problema: 'classificacao'\n",
        "PROBLEM_TYPE = \"classificacao\"\n",
        "\n",
        "# Defina as features e o target conforme o seu problema\n",
        "if PROBLEM_TYPE == \"classificacao\":\n",
        "    # O seu target é o 'Nivel_Risco_Numerico'\n",
        "    target = \"Nivel_Risco_Numerico\"\n",
        "    # Suas features são as 7 colunas que você utilizou\n",
        "    features = ['Idade', 'Pressao_Sistolica', 'Pressao_Diastolica', 'Nivel_Glicose', 'Temperatura_Corporal', 'Frequencia_Cardiaca', 'Idade_35+']\n",
        "else:\n",
        "    raise ValueError(\"PROBLEM_TYPE inválido para este trabalho.\")\n",
        "\n",
        "print(\"PROBLEM_TYPE:\", PROBLEM_TYPE)\n",
        "print(\"Target:\", target)\n",
        "print(\"N features:\", len(features))\n",
        "\n"
      ],
      "metadata": {
        "colab": {
          "base_uri": "https://localhost:8080/"
        },
        "id": "pmuXwp2tolyx",
        "outputId": "07abcdea-a9aa-4d10-814e-25a981de5b84"
      },
      "execution_count": 23,
      "outputs": [
        {
          "output_type": "stream",
          "name": "stdout",
          "text": [
            "PROBLEM_TYPE: classificacao\n",
            "Target: Nivel_Risco_Numerico\n",
            "N features: 7\n"
          ]
        }
      ]
    },
    {
      "cell_type": "markdown",
      "source": [
        "##5.2 Treino e Teste"
      ],
      "metadata": {
        "id": "jfHRyw76rF1D"
      }
    },
    {
      "cell_type": "markdown",
      "source": [
        "Esta etapa consiste em separar o dataset em duas partes, sendo um conjunto de treino e outro de teste.\n",
        "\n",
        "- O conjunto de treino é usado para \"ensinar\" o        modelo a encontrar padrões nos dados.\n",
        "- O conjunto de teste é um conjunto de dados \"invisível\" que o modelo nunca viu durante o treinamento. Ele é usado para simular como o      modelo se comportaria com novos dados do mundo real, dando uma estimativa imparcial de sua capacidade de generalização."
      ],
      "metadata": {
        "id": "Cl5QdzJLMUMG"
      }
    },
    {
      "cell_type": "code",
      "source": [
        "# Divida os dados em treino e teste\n",
        "X_train, X_test, y_train, y_test = train_test_split(\n",
        "    X,\n",
        "    y,\n",
        "    test_size=0.3,\n",
        "    random_state=7,\n",
        "    stratify=y\n",
        ")\n",
        "\n",
        "# Imprimir as dimensões dos conjuntos para verificar\n",
        "print(f\"Dimensão total do Dataset: {Dataset.shape}\")\n",
        "print(f\"Dimensão de X (features): {X.shape}\")\n",
        "print(f\"Dimensão de y (target): {y.shape}\")\n",
        "print(\"-\" * 40)\n",
        "print(f\"Dimensão do conjunto de treino (X_train): {X_train.shape}\")\n",
        "print(f\"Dimensão do conjunto de teste (X_test): {X_test.shape}\")\n",
        "print(f\"Dimensão do target de treino (y_train): {y_train.shape}\")\n",
        "print(f\"Dimensão do target de teste (y_test): {y_test.shape}\")\n",
        "print(\"-\" * 40)\n",
        "print(\"Distribuição do Nivel_Risco no Dataset original:\")\n",
        "print(y.value_counts(normalize=True))\n",
        "print(\"\\nDistribuição do Nivel_Risco no conjunto de treino:\")\n",
        "print(y_train.value_counts(normalize=True))\n",
        "print(\"\\nDistribuição do Nivel_Risco no conjunto de teste:\")\n",
        "print(y_test.value_counts(normalize=True))\n"
      ],
      "metadata": {
        "colab": {
          "base_uri": "https://localhost:8080/",
          "height": 207
        },
        "id": "-mEfVRf5vCdX",
        "outputId": "01ea97ac-82ce-490e-8d0b-17c44f5b995f"
      },
      "execution_count": 27,
      "outputs": [
        {
          "output_type": "error",
          "ename": "NameError",
          "evalue": "name 'X' is not defined",
          "traceback": [
            "\u001b[0;31m---------------------------------------------------------------------------\u001b[0m",
            "\u001b[0;31mNameError\u001b[0m                                 Traceback (most recent call last)",
            "\u001b[0;32m/tmp/ipython-input-1997416869.py\u001b[0m in \u001b[0;36m<cell line: 0>\u001b[0;34m()\u001b[0m\n\u001b[1;32m      1\u001b[0m \u001b[0;31m# Divida os dados em treino e teste\u001b[0m\u001b[0;34m\u001b[0m\u001b[0;34m\u001b[0m\u001b[0m\n\u001b[1;32m      2\u001b[0m X_train, X_test, y_train, y_test = train_test_split(\n\u001b[0;32m----> 3\u001b[0;31m     \u001b[0mX\u001b[0m\u001b[0;34m,\u001b[0m\u001b[0;34m\u001b[0m\u001b[0;34m\u001b[0m\u001b[0m\n\u001b[0m\u001b[1;32m      4\u001b[0m     \u001b[0my\u001b[0m\u001b[0;34m,\u001b[0m\u001b[0;34m\u001b[0m\u001b[0;34m\u001b[0m\u001b[0m\n\u001b[1;32m      5\u001b[0m     \u001b[0mtest_size\u001b[0m\u001b[0;34m=\u001b[0m\u001b[0;36m0.3\u001b[0m\u001b[0;34m,\u001b[0m\u001b[0;34m\u001b[0m\u001b[0;34m\u001b[0m\u001b[0m\n",
            "\u001b[0;31mNameError\u001b[0m: name 'X' is not defined"
          ]
        }
      ]
    },
    {
      "cell_type": "markdown",
      "source": [
        "###Avaliação do Resultado\n",
        "\n",
        "A distribuição das classes de risco foi mantida de forma praticamente idêntica nos conjuntos de treino e teste.\n",
        "\n",
        "A diferença percentual entre os conjuntos é mínima, o que confirma que o stratify funcionou como esperado. Isso garante que:\n",
        "\n",
        "Representatividade: Os conjuntos de treino e teste são representativos do conjunto de dados original.\n",
        "\n",
        "Validação Justa: Seu modelo será treinado e testado em uma amostra que reflete a realidade do problema, evitando que a performance seja enviesada por uma distribuição de classes diferente."
      ],
      "metadata": {
        "id": "9vh1sYw2vzC6"
      }
    },
    {
      "cell_type": "markdown",
      "source": [
        "##5.3 Padronização dos Dados"
      ],
      "metadata": {
        "id": "uvtMFaPAr4ax"
      }
    },
    {
      "cell_type": "markdown",
      "source": [
        " A padronização dos dados é um processo de pré-processamento de dados em Machine Learning que transforma as features para que elas tenham as mesmas propriedades estatísticas. O objetivo é que, após a padronização, os dados de cada feature tenham a média igual a zero e o desvio padrão igual a um.\n",
        "\n",
        "É crucial para o desempenho de diversos algoritmos de Machine Learning, especialmente aqueles que são sensíveis à escala das variáveis."
      ],
      "metadata": {
        "id": "GQ3H-Nges48s"
      }
    },
    {
      "cell_type": "code",
      "source": [
        "print(\"Shape dos dados de treino (sem padronizar):\", X_train.shape)\n",
        "print(\"Shape dos dados de teste (sem padronizar):\", X_test.shape)\n",
        "\n",
        "# Instanciar o StandardScaler\n",
        "# O StandardScaler remove a média (0) e escala para a unidade de variância (1)\n",
        "scaler = StandardScaler()\n",
        "\n",
        "# Ajustar o scaler APENAS nos dados de treino\n",
        "# O .fit() calcula a média e o desvio padrão com base somente no conjunto de treino.\n",
        "scaler.fit(X_train)\n",
        "\n",
        "# Transformar os dados de treino e teste\n",
        "# O .transform() aplica a padronização usando as estatísticas aprendidas no passo anterior.\n",
        "X_train_scaled = scaler.transform(X_train)\n",
        "X_test_scaled = scaler.transform(X_test)\n",
        "\n",
        "# Os dados agora estão padronizados e prontos para o treino dos modelos sensíveis à escala.\n",
        "print(\"\\nShape dos dados de treino (padronizados):\", X_train_scaled.shape)\n",
        "print(\"Shape dos dados de teste (padronizados):\", X_test_scaled.shape)\n",
        "print(\"\\nPrimeiras 5 linhas do X_train padronizado:\")\n",
        "print(pd.DataFrame(X_train_scaled, columns=features).head())\n"
      ],
      "metadata": {
        "id": "0Hn1GuQYr9Qa"
      },
      "execution_count": null,
      "outputs": []
    },
    {
      "cell_type": "markdown",
      "source": [
        "##5.4 Normalização dos Dados"
      ],
      "metadata": {
        "id": "UzcwR5N-tPY_"
      }
    },
    {
      "cell_type": "markdown",
      "source": [
        "A normalização de dados é uma técnica de pré-processamento que ajusta a escala das features para um intervalo comum, geralmente entre 0 e 1.\n",
        "\n",
        "O principal objetivo é garantir que todas as variáveis contribuam de forma proporcional para o modelo, evitando que uma feature com valores muito grandes domine o processo de treinamento."
      ],
      "metadata": {
        "id": "gvxoBb4ytalW"
      }
    },
    {
      "cell_type": "code",
      "source": [
        "print(\"Shape dos dados de treino (sem normalizar):\", X_train.shape)\n",
        "print(\"Shape dos dados de teste (sem normalizar):\", X_test.shape)\n",
        "\n",
        "# Instanciar o MinMaxScaler\n",
        "# O MinMaxScaler normaliza os dados para o intervalo padrão [0, 1].\n",
        "min_max_scaler = MinMaxScaler()\n",
        "\n",
        "# Ajustar o scaler APENAS nos dados de treino\n",
        "# O .fit() calcula os valores mínimo e máximo com base apenas no conjunto de treino.\n",
        "min_max_scaler.fit(X_train)\n",
        "\n",
        "# Transformar os dados de treino e teste\n",
        "# O .transform() aplica a normalização usando as estatísticas aprendidas no passo anterior.\n",
        "X_train_normalized = min_max_scaler.transform(X_train)\n",
        "X_test_normalized = min_max_scaler.transform(X_test)\n",
        "\n",
        "# Os dados agora estão normalizados e prontos para o treino dos modelos sensíveis à escala.\n",
        "print(\"\\nShape dos dados de treino (normalizados):\", X_train_normalized.shape)\n",
        "print(\"Shape dos dados de teste (normalizados):\", X_test_normalized.shape)\n",
        "print(\"\\nPrimeiras 5 linhas do X_train normalizado:\")\n",
        "print(pd.DataFrame(X_train_normalized, columns=features).head())"
      ],
      "metadata": {
        "id": "vwofx7YXtv0b"
      },
      "execution_count": null,
      "outputs": []
    },
    {
      "cell_type": "markdown",
      "source": [
        "# 6. Machine Learning\n",
        "\n",
        "Machine Learning (aprendizado de maquina) é um campo da Inteligência Artificial que permite que os computadores aprendam a partir de dados, sem serem explicitamente programados para cada tarefa.\n",
        "\n",
        "O objetivo é criar um modelo que, ao receber novos dados (de uma paciente/gestante que ele nunca viu, por exemplo), seja capaz de fazer uma previsão ou tomar uma decisão com base nos padrões que aprendeu."
      ],
      "metadata": {
        "id": "VDovmxgDFcbF"
      }
    },
    {
      "cell_type": "markdown",
      "source": [
        "##6.1 Cross Validation - Com dados originais\n",
        "Comparar o desempenho de vários modelos de machine learning para encontrar o melhor para o problema apresentado."
      ],
      "metadata": {
        "id": "zcMytcy8CCh3"
      }
    },
    {
      "cell_type": "code",
      "source": [
        "# Definindo uma seed para garantir a reprodutibilidade.\n",
        "np.random.seed(7)\n",
        "\n",
        "# Preparando a lista de modelos.\n",
        "models = []\n",
        "models.append(('KNN', KNeighborsClassifier()))\n",
        "models.append(('CART', DecisionTreeClassifier()))\n",
        "models.append(('NB', GaussianNB()))\n",
        "models.append(('SVM', SVC()))\n",
        "models.append(('XGBoost', XGBClassifier(use_label_encoder=False, eval_metric='logloss')))\n",
        "models.append(('RNA', MLPClassifier(max_iter=1000)))\n",
        "\n",
        "# Criar o objeto de validação cruzada (KFold).\n",
        "kfold = KFold(n_splits=10, random_state=7, shuffle=True)\n",
        "\n",
        "# Listas para armazenar os resultados de acurácia e os nomes dos modelos.\n",
        "results = []\n",
        "names = []\n",
        "scoring = 'accuracy'\n",
        "\n",
        "# Avaliando cada modelo usando validação cruzada com os dados originais.\n",
        "for name, model in models:\n",
        "    try:\n",
        "        # AVALIAÇÃO COM DADOS ORIGINAIS (SEM PADRONIZAÇÃO)\n",
        "        cv_results = cross_val_score(model, X_train, y_train, cv=kfold, scoring=scoring)\n",
        "\n",
        "        results.append(cv_results)\n",
        "        names.append(name)\n",
        "        msg = f\"{name}: {cv_results.mean():.4f} ({cv_results.std():.4f})\"\n",
        "        print(msg)\n",
        "    except Exception as e:\n",
        "        print(f\"Erro ao avaliar o modelo {name}: {e}\")\n",
        "\n",
        "# ==============================================================================\n",
        "# 2. VISUALIZAÇÃO E ANÁLISE DOS RESULTADOS\n",
        "# ==============================================================================\n",
        "\n",
        "# Criar um DataFrame a partir dos resultados para facilitar a visualização com Seaborn.\n",
        "df_results = pd.DataFrame(columns=['Acurácia', 'Modelo'])\n",
        "for i in range(len(names)):\n",
        "    model_data = pd.DataFrame({\n",
        "        'Acurácia': results[i],\n",
        "        'Modelo': names[i]\n",
        "    })\n",
        "    df_results = pd.concat([df_results, model_data], ignore_index=True)\n",
        "\n",
        "# Gerar o box plot e o stripplot.\n",
        "plt.figure(figsize=(12, 7))\n",
        "sns.boxplot(x='Modelo', y='Acurácia', data=df_results)\n",
        "sns.stripplot(x='Modelo', y='Acurácia', data=df_results, color='black', size=5, jitter=True, alpha=0.5)\n",
        "\n",
        "plt.title('Comparação de Desempenho dos Modelos (Sem Padronização)', fontsize=16)\n",
        "plt.xlabel('Modelo', fontsize=12)\n",
        "plt.ylabel('Acurácia', fontsize=12)\n",
        "plt.grid(axis='y', linestyle='--', alpha=0.7)\n",
        "plt.show()"
      ],
      "metadata": {
        "id": "Fv7IPswTwp9s"
      },
      "execution_count": null,
      "outputs": []
    },
    {
      "cell_type": "markdown",
      "source": [
        "##6.2 Cross Validation - Dados Padronizados"
      ],
      "metadata": {
        "id": "-w_4ja4Dx0Xz"
      }
    },
    {
      "cell_type": "code",
      "source": [
        "# Definindo uma seed para garantir a reprodutibilidade.\n",
        "np.random.seed(7)\n",
        "\n",
        "# Preparando a lista de modelos dentro de pipelines padronizados\n",
        "pipelines_padronizados = []\n",
        "pipelines_padronizados.append(('KNN-Pad', Pipeline([('padronizador', StandardScaler()), ('KNN', KNeighborsClassifier())])))\n",
        "pipelines_padronizados.append(('CART-Pad', Pipeline([('padronizador', StandardScaler()), ('CART', DecisionTreeClassifier())])))\n",
        "pipelines_padronizados.append(('NB-Pad', Pipeline([('padronizador', StandardScaler()), ('NB', GaussianNB())])))\n",
        "pipelines_padronizados.append(('SVM-Pad', Pipeline([('padronizador', StandardScaler()), ('SVM', SVC())])))\n",
        "pipelines_padronizados.append(('XGBoost-Pad', Pipeline([('padronizador', StandardScaler()), ('XGBoost', XGBClassifier(use_label_encoder=False, eval_metric='logloss'))])))\n",
        "pipelines_padronizados.append(('RNA-Pad', Pipeline([('padronizador', StandardScaler()), ('RNA', MLPClassifier(max_iter=1000))])))\n",
        "\n",
        "# Criar o objeto de validação cruzada (KFold).\n",
        "kfold = KFold(n_splits=10, random_state=7, shuffle=True)\n",
        "\n",
        "# Listas para armazenar os resultados e nomes\n",
        "results_padronizados = []\n",
        "names_padronizados = []\n",
        "scoring = 'accuracy'\n",
        "\n",
        "# Avaliando cada pipeline usando validação cruzada.\n",
        "print(\"Validação cruzada com dados padronizados...\")\n",
        "for name, pipeline in pipelines_padronizados:\n",
        "    try:\n",
        "        cv_results = cross_val_score(pipeline, X_train, y_train, cv=kfold, scoring=scoring)\n",
        "        results_padronizados.append(cv_results)\n",
        "        names_padronizados.append(name)\n",
        "        msg = f\"{name}: {cv_results.mean():.4f} ({cv_results.std():.4f})\"\n",
        "        print(msg)\n",
        "    except Exception as e:\n",
        "        print(f\"Erro ao avaliar o modelo {name}: {e}\")\n",
        "\n",
        "\n",
        "\n",
        "# Gerar o box plot e o stripplot.\n",
        "plt.figure(figsize=(12, 7))\n",
        "sns.boxplot(x='Modelo', y='Acurácia', data=df_results)\n",
        "sns.stripplot(x='Modelo', y='Acurácia', data=df_results, color='black', size=5, jitter=True, alpha=0.5)\n",
        "\n",
        "plt.title('Comparação de Desempenho dos Modelos (Dados Padronização)', fontsize=16)\n",
        "plt.xlabel('Modelo', fontsize=12)\n",
        "plt.ylabel('Acurácia', fontsize=12)\n",
        "plt.grid(axis='y', linestyle='--', alpha=0.7)\n",
        "plt.show()"
      ],
      "metadata": {
        "id": "Ohbh2Qz7x5Y2"
      },
      "execution_count": null,
      "outputs": []
    },
    {
      "cell_type": "markdown",
      "source": [
        "##6.3 Cross Validation - Dados Normalizados"
      ],
      "metadata": {
        "id": "L4NVIeSpycpA"
      }
    },
    {
      "cell_type": "code",
      "source": [
        "# Definindo uma seed para garantir a reprodutibilidade.\n",
        "np.random.seed(7)\n",
        "\n",
        "# Preparando a lista de modelos dentro de pipelines normalizados\n",
        "pipelines_normalizados = []\n",
        "pipelines_normalizados.append(('KNN-Norm', Pipeline([('normalizer', MinMaxScaler()), ('KNN', KNeighborsClassifier())])))\n",
        "pipelines_normalizados.append(('CART-Norm', Pipeline([('normalizer', MinMaxScaler()), ('CART', DecisionTreeClassifier())])))\n",
        "pipelines_normalizados.append(('NB-Norm', Pipeline([('normalizer', MinMaxScaler()), ('NB', GaussianNB())])))\n",
        "pipelines_normalizados.append(('SVM-Norm', Pipeline([('normalizer', MinMaxScaler()), ('SVM', SVC())])))\n",
        "pipelines_normalizados.append(('XGBoost-Norm', Pipeline([('normalizer', MinMaxScaler()), ('XGBoost', XGBClassifier(use_label_encoder=False, eval_metric='logloss'))])))\n",
        "pipelines_normalizados.append(('RNA-Norm', Pipeline([('normalizer', MinMaxScaler()), ('RNA', MLPClassifier(max_iter=1000))])))\n",
        "\n",
        "# Criar o objeto de validação cruzada (KFold).\n",
        "kfold = KFold(n_splits=10, random_state=7, shuffle=True)\n",
        "\n",
        "# Listas para armazenar os resultados e nomes\n",
        "results_normalizados = []\n",
        "names_normalizados = []\n",
        "scoring = 'accuracy'\n",
        "\n",
        "# Avaliando cada pipeline usando validação cruzada.\n",
        "print(\"Validação cruzada com dados normalizados...\")\n",
        "for name, pipeline in pipelines_normalizados:\n",
        "    try:\n",
        "        cv_results = cross_val_score(pipeline, X_train, y_train, cv=kfold, scoring=scoring)\n",
        "        results_normalizados.append(cv_results)\n",
        "        names_normalizados.append(name)\n",
        "        msg = f\"{name}: {cv_results.mean():.4f} ({cv_results.std():.4f})\"\n",
        "        print(msg)\n",
        "    except Exception as e:\n",
        "        print(f\"Erro ao avaliar o modelo {name}: {e}\")\n",
        "\n",
        "\n",
        "        # Gerar o box plot e o stripplot.\n",
        "plt.figure(figsize=(12, 7))\n",
        "sns.boxplot(x='Modelo', y='Acurácia', data=df_results)\n",
        "sns.stripplot(x='Modelo', y='Acurácia', data=df_results, color='black', size=5, jitter=True, alpha=0.5)\n",
        "\n",
        "plt.title('Comparação de Desempenho dos Modelos (Dados Normalizados)', fontsize=16)\n",
        "plt.xlabel('Modelo', fontsize=12)\n",
        "plt.ylabel('Acurácia', fontsize=12)\n",
        "plt.grid(axis='y', linestyle='--', alpha=0.7)\n",
        "plt.show()"
      ],
      "metadata": {
        "id": "PRU8Qs-qyhNO"
      },
      "execution_count": null,
      "outputs": []
    },
    {
      "cell_type": "markdown",
      "source": [
        "##6.4 Analise Cross Validation"
      ],
      "metadata": {
        "id": "8I_6DSI20LbE"
      }
    },
    {
      "cell_type": "markdown",
      "source": [
        "Os resultados dos três cenários de validação cruzada (dados originais, normalizados e padronizados) é a forma mais eficaz de entender como o pré-processamento afeta o desempenho dos modelos.\n",
        "\n",
        "\n",
        "1. Modelos Não Sensíveis à Escala dos Dados\n",
        "\n",
        "Árvore de Decisão, Naive Bayes e XGBoost mantiveram um desempenho praticamente idêntico em todos os três cenários (originais, normalizados e padronizados). Isso é o comportamento esperado, pois esses algoritmos não calculam distâncias entre os pontos de dados. Eles tomam decisões com base em regras lógicas (if/else) ou probabilidades que não são influenciadas pela magnitude dos valores das features.\n",
        "\n",
        "2. Modelos Sensíveis à Escala dos Dados\n",
        "\n",
        "SVM e RNA: Esses modelos, que dependem de cálculos de distância ou de gradientes para otimizar suas funções, mostraram uma melhora significativa na acurácia com a normalização e, principalmente, com a padronização.\n",
        "\n",
        "O SVM saltou de uma acurácia de 0.5697 com dados originais para 0.6841 com os dados normalizados ou padronizados.\n",
        "\n",
        "A RNA teve um aumento de 0.5939 para 0.6770 (normalização) e 0.6897 (padronização).\n",
        "\n",
        "Este comportamento confirma que a padronização e a normalização são essenciais para que esses modelos funcionem corretamente. Sem isso, features com valores maiores (como Pressao_Sistolica) dominam o processo de aprendizado, prejudicando a performance.\n",
        "\n",
        "KNN: O KNN é um caso atípico nesta análise. Embora seja um modelo baseado em distância e, portanto, sensível à escala, sua acurácia foi maior com os dados originais (0.6896) do que com os dados normalizados (0.6544) e padronizados (0.6671).\n",
        "\n",
        "Esse resultado é surpreendente e pode sugerir que a distribuição original dos dados se alinhava, por coincidência, de forma favorável para o cálculo das distâncias, ou que o conjunto de dados tem outliers que a padronização (que é mais robusta que a normalização a eles) conseguiu lidar.\n",
        "\n",
        "###Conclusão\n",
        "\n",
        "O pré-processamento é um passo crucial no fluxo de trabalho de Machine Learning, mas que seu impacto varia muito de acordo com o algoritmo.\n",
        "\n",
        "Para SVM e RNA, a padronização é a melhor opção, pois levou a um aumento substancial e consistente na acurácia.\n",
        "\n",
        "Para os modelos baseados em árvores e probabilidade, o pré-processamento de escala não fez diferença.\n",
        "\n",
        "***Avaliação Detalhada dos Melhores Modelos***\n",
        "\n",
        "XGBoost:\n",
        "\n",
        "Acurácia: 0.8025 em todos os cenários (dados originais, normalizados e padronizados).\n",
        "\n",
        "Por que é o melhor: O XGBoost consistentemente teve a maior acurácia de todos os modelos testados, independentemente do tipo de pré-processamento. Isso mostra que ele é um algoritmo extremamente robusto e poderoso para o seu conjunto de dados, capaz de lidar bem com a escala original dos dados e manter o desempenho.\n",
        "\n",
        "Árvore de Decisão (CART):\n",
        "\n",
        "Acurácia: 0.7954 (dados originais e normalizados) e 0.7982 (dados padronizados).\n",
        "\n",
        "Por que é um dos melhores: A Árvore de Decisão também se destacou, com uma acurácia muito próxima à do XGBoost. Sua performance é estável e robusta, não sendo afetada pela escala dos dados. Isso a torna uma ótima escolha, especialmente se a interpretabilidade do modelo for importante para você.\n",
        "\n",
        "Considerações Finais\n",
        "\n",
        "O XGBoost se mostrou o vencedor claro em termos de acurácia, mas a Árvore de Decisão oferece um desempenho comparável com a vantagem de ser um modelo mais simples e fácil de entender. A melhor escolha entre os dois dependerá se você prioriza a maior acurácia possível (XGBoost) ou a facilidade de interpretação (Árvore de Decisão)."
      ],
      "metadata": {
        "id": "LjXYB_Jf0Uxv"
      }
    },
    {
      "cell_type": "markdown",
      "source": [
        "#5.3 Ajuste de Hiperparametros"
      ],
      "metadata": {
        "id": "3KM6xGXiE_5Y"
      }
    },
    {
      "cell_type": "code",
      "source": [
        "# ==============================================================================\n",
        "# 1. AJUSTE DE HIPERPARÂMETROS PARA XGBOOST (com RandomizedSearchCV)\n",
        "# ==============================================================================\n",
        "\n",
        "print(\"Ajustando hiperparâmetros para XGBoost com RandomizedSearchCV...\")\n",
        "\n",
        "# Definir a grade de parâmetros a serem testados\n",
        "# Usamos RandomizedSearchCV para XGBoost devido ao seu grande número de hiperparâmetros\n",
        "param_dist_xgb = {\n",
        "    'n_estimators': [50, 100, 200, 300],\n",
        "    'learning_rate': [0.01, 0.05, 0.1, 0.2],\n",
        "    'max_depth': [3, 5, 7, 9],\n",
        "    'subsample': [0.6, 0.8, 1.0],\n",
        "    'colsample_bytree': [0.6, 0.8, 1.0],\n",
        "    'gamma': [0, 0.1, 0.2]\n",
        "}\n",
        "\n",
        "# Criar o modelo base\n",
        "model_xgb = XGBClassifier(use_label_encoder=False, eval_metric='logloss', random_state=7)\n",
        "\n",
        "# Configurar o RandomizedSearchCV\n",
        "random_search_xgb = RandomizedSearchCV(\n",
        "    estimator=model_xgb,\n",
        "    param_distributions=param_dist_xgb,\n",
        "    n_iter=50, # Número de combinações aleatórias a serem testadas\n",
        "    scoring='accuracy',\n",
        "    cv=kfold, # Reutilizando o KFold de 10\n",
        "    verbose=1,\n",
        "    n_jobs=-1 # Usa todos os núcleos disponíveis\n",
        ")\n",
        "\n",
        "# Executar a busca\n",
        "random_search_xgb.fit(X_train, y_train)\n",
        "\n",
        "# Imprimir os melhores resultados\n",
        "print(f\"\\nMelhor acurácia para XGBoost: {random_search_xgb.best_score_:.4f}\")\n",
        "print(f\"Melhores parâmetros para XGBoost: {random_search_xgb.best_params_}\")\n",
        "\n",
        "# ==============================================================================\n",
        "# 2. AJUSTE DE HIPERPARÂMETROS PARA ÁRVORE DE DECISÃO (com GridSearchCV)\n",
        "# ==============================================================================\n",
        "\n",
        "print(\"\\nAjustando hiperparâmetros para Árvore de Decisão com GridSearchCV...\")\n",
        "\n",
        "# Definir a grade de parâmetros a serem testados\n",
        "# Usamos GridSearchCV, pois o número de parâmetros da Árvore de Decisão é menor\n",
        "param_grid_cart = {\n",
        "    'criterion': ['gini', 'entropy'],\n",
        "    'max_depth': [None, 5, 10, 15, 20],\n",
        "    'min_samples_split': [2, 5, 10],\n",
        "    'min_samples_leaf': [1, 2, 4]\n",
        "}\n",
        "\n",
        "# Criar o modelo base\n",
        "model_cart = DecisionTreeClassifier(random_state=7)\n",
        "\n",
        "# Configurar o GridSearchCV\n",
        "grid_search_cart = GridSearchCV(\n",
        "    estimator=model_cart,\n",
        "    param_grid=param_grid_cart,\n",
        "    scoring='accuracy',\n",
        "    cv=kfold,\n",
        "    verbose=1,\n",
        "    n_jobs=-1\n",
        ")\n",
        "\n",
        "# Executar a busca\n",
        "grid_search_cart.fit(X_train, y_train)\n",
        "\n",
        "# Imprimir os melhores resultados\n",
        "print(f\"\\nMelhor acurácia para Árvore de Decisão: {grid_search_cart.best_score_:.4f}\")\n",
        "print(f\"Melhores parâmetros para Árvore de Decisão: {grid_search_cart.best_params_}\")"
      ],
      "metadata": {
        "id": "w8hXIb3Td0aI"
      },
      "execution_count": null,
      "outputs": []
    },
    {
      "cell_type": "markdown",
      "source": [
        "Avaliação dos Resultados\n",
        "\n",
        "Modelo XGBoost:\n",
        "\n",
        "Acurácia: 0.8464\n",
        "\n",
        "Comentário: Este é um resultado excelente. A acurácia de 84.64% demonstra que o modelo é capaz de prever o nível de risco de gravidez com alta precisão. O RandomizedSearchCV foi eficaz em encontrar uma boa combinação de parâmetros, como n_estimators=50, max_depth=9 e learning_rate=0.2, que otimizaram o desempenho do modelo para o seu conjunto de dados.\n",
        "\n",
        "Modelo Árvore de Decisão:\n",
        "\n",
        "Acurácia: 0.8336\n",
        "\n",
        "Comentário: A acurácia de 83.36% também é muito boa, e mostra que a Árvore de Decisão, mesmo sendo um modelo mais simples que o XGBoost, é bastante eficaz para este problema. Os melhores parâmetros ('criterion': 'gini', 'max_depth': None) indicam que o modelo obteve o melhor desempenho sem uma limitação de profundidade máxima, o que sugere que a estrutura da árvore completa é a mais adequada para capturar as nuances do seu conjunto de dados.\n",
        "\n",
        "Comparativo e Próximos Passos\n",
        "\n",
        "Apesar de o XGBoost ter uma acurácia ligeiramente superior, a diferença é pequena. Ambos os modelos mostram um desempenho robusto.\n",
        "\n",
        "A próxima etapa crucial seria realizar a avaliação final desses modelos no conjunto de teste (X_test, y_test). Isso é fundamental para garantir que o desempenho que você viu na validação cruzada seja realmente generalizável para dados novos e não vistos.\n",
        "\n",
        "Além da acurácia, é altamente recomendável gerar a matriz de confusão e o relatório de classificação (classification_report) para o modelo final. Essas métricas fornecerão informações mais ricas sobre o desempenho, como:\n",
        "\n",
        "Precisão (Precision): Quantos dos casos previstos como 'alto risco' foram realmente 'alto risco'?\n",
        "\n",
        "Revocação (Recall): Dos casos que eram realmente 'alto risco', quantos o modelo conseguiu identificar?\n",
        "\n",
        "F1-Score: Uma métrica que equilibra precisão e revocação.\n",
        "\n",
        "Em um problema de saúde como este, a revocação para a classe de 'alto risco' é especialmente importante, pois você quer ter certeza de que o modelo não está deixando de identificar pacientes que realmente precisam de atenção."
      ],
      "metadata": {
        "id": "ijMalepRe4g_"
      }
    },
    {
      "cell_type": "code",
      "source": [
        "#ajuste de hiperparametros com dados padronizados\n",
        "\n",
        "\n",
        "\n",
        "\n",
        "\n",
        "\n",
        "# 1. Configurar KFold para Validação Cruzada\n",
        "kfold = KFold(n_splits=10, random_state=7, shuffle=True)\n",
        "\n",
        "# ==============================================================================\n",
        "# 1. AJUSTE DE HIPERPARÂMETROS PARA XGBOOST (com RandomizedSearchCV)\n",
        "# ==============================================================================\n",
        "\n",
        "print(\"Ajustando hiperparâmetros para XGBoost com RandomizedSearchCV...\")\n",
        "\n",
        "# Criar o pipeline para XGBoost\n",
        "# O pipeline garante que o StandardScaler seja aplicado em cada fold da validação cruzada\n",
        "pipe_xgb = Pipeline([\n",
        "    ('scaler', StandardScaler()),\n",
        "    ('xgb', XGBClassifier(use_label_encoder=False, eval_metric='logloss', random_state=7))\n",
        "])\n",
        "\n",
        "# Definir a grade de parâmetros.\n",
        "# O prefixo 'xgb__' é necessário para se referir aos parâmetros do modelo dentro do pipeline.\n",
        "param_dist_xgb = {\n",
        "    'xgb__n_estimators': [50, 100, 200, 300],\n",
        "    'xgb__learning_rate': [0.01, 0.05, 0.1, 0.2],\n",
        "    'xgb__max_depth': [3, 5, 7, 9],\n",
        "    'xgb__subsample': [0.6, 0.8, 1.0],\n",
        "    'xgb__colsample_bytree': [0.6, 0.8, 1.0],\n",
        "    'xgb__gamma': [0, 0.1, 0.2]\n",
        "}\n",
        "\n",
        "# Configurar o RandomizedSearchCV para o pipeline\n",
        "random_search_xgb = RandomizedSearchCV(\n",
        "    estimator=pipe_xgb,\n",
        "    param_distributions=param_dist_xgb,\n",
        "    n_iter=50,\n",
        "    scoring='accuracy',\n",
        "    cv=kfold,\n",
        "    verbose=1,\n",
        "    n_jobs=-1\n",
        ")\n",
        "\n",
        "# Executar a busca\n",
        "# O pipeline cuidará da padronização automaticamente\n",
        "random_search_xgb.fit(X_train, y_train)\n",
        "\n",
        "# Imprimir os melhores resultados\n",
        "print(f\"\\nMelhor acurácia para XGBoost: {random_search_xgb.best_score_:.4f}\")\n",
        "print(f\"Melhores parâmetros para XGBoost: {random_search_xgb.best_params_}\")\n",
        "\n",
        "# ==============================================================================\n",
        "# 2. AJUSTE DE HIPERPARÂMETROS PARA ÁRVORE DE DECISÃO (com GridSearchCV)\n",
        "# ==============================================================================\n",
        "\n",
        "print(\"\\nAjustando hiperparâmetros para Árvore de Decisão com GridSearchCV...\")\n",
        "\n",
        "# Criar o pipeline para a Árvore de Decisão\n",
        "pipe_cart = Pipeline([\n",
        "    ('scaler', StandardScaler()),\n",
        "    ('cart', DecisionTreeClassifier(random_state=7))\n",
        "])\n",
        "\n",
        "# Definir a grade de parâmetros.\n",
        "# O prefixo 'cart__' é necessário para os parâmetros do modelo.\n",
        "param_grid_cart = {\n",
        "    'cart__criterion': ['gini', 'entropy'],\n",
        "    'cart__max_depth': [None, 5, 10, 15, 20],\n",
        "    'cart__min_samples_split': [2, 5, 10],\n",
        "    'cart__min_samples_leaf': [1, 2, 4]\n",
        "}\n",
        "\n",
        "# Configurar o GridSearchCV para o pipeline\n",
        "grid_search_cart = GridSearchCV(\n",
        "    estimator=pipe_cart,\n",
        "    param_grid=param_grid_cart,\n",
        "    scoring='accuracy',\n",
        "    cv=kfold,\n",
        "    verbose=1,\n",
        "    n_jobs=-1\n",
        ")\n",
        "\n",
        "# Executar a busca\n",
        "grid_search_cart.fit(X_train, y_train)\n",
        "\n",
        "# Imprimir os melhores resultados\n",
        "print(f\"\\nMelhor acurácia para Árvore de Decisão: {grid_search_cart.best_score_:.4f}\")\n",
        "print(f\"Melhores parâmetros para Árvore de Decisão: {grid_search_cart.best_params_}\")"
      ],
      "metadata": {
        "id": "86_DcDKzkBj2"
      },
      "execution_count": null,
      "outputs": []
    },
    {
      "cell_type": "code",
      "source": [
        "# ==============================================================================\n",
        "# 1. AVALIAÇÃO DO MELHOR MODELO XGBOOST\n",
        "# ==============================================================================\n",
        "\n",
        "print(\"--- Avaliação do Modelo XGBoost Otimizado ---\")\n",
        "\n",
        "# Obter o melhor modelo treinado com os hiperparâmetros otimizados\n",
        "# A variável `random_search_xgb` contém o resultado da busca de hiperparâmetros\n",
        "best_xgb_model = random_search_xgb.best_estimator_\n",
        "\n",
        "# Fazer previsões no conjunto de teste (dados que o modelo nunca viu)\n",
        "y_pred_xgb = best_xgb_model.predict(X_test)\n",
        "\n",
        "# Gerar e imprimir o Relatório de Classificação\n",
        "# Este relatório inclui precisão, revocação e f1-score para cada classe\n",
        "print(\"\\nRelatório de Classificação para XGBoost:\")\n",
        "print(classification_report(y_test, y_pred_xgb, target_names=['low risk', 'mid risk', 'high risk']))\n",
        "\n",
        "# Gerar a Matriz de Confusão\n",
        "cm_xgb = confusion_matrix(y_test, y_pred_xgb)\n",
        "\n",
        "# Imprimir a Matriz de Confusão\n",
        "print(\"\\nMatriz de Confusão para XGBoost:\")\n",
        "print(cm_xgb)\n",
        "\n",
        "\n",
        "# ==============================================================================\n",
        "# 2. AVALIAÇÃO DO MELHOR MODELO ÁRVORE DE DECISÃO\n",
        "# ==============================================================================\n",
        "\n",
        "print(\"\\n\\n--- Avaliação do Modelo Árvore de Decisão Otimizado ---\")\n",
        "\n",
        "# Obter o melhor modelo treinado com os hiperparâmetros otimizados\n",
        "# A variável `grid_search_cart` contém o resultado da busca\n",
        "best_cart_model = grid_search_cart.best_estimator_\n",
        "\n",
        "# Fazer previsões no conjunto de teste\n",
        "y_pred_cart = best_cart_model.predict(X_test)\n",
        "\n",
        "# Gerar e imprimir o Relatório de Classificação\n",
        "print(\"\\nRelatório de Classificação para Árvore de Decisão:\")\n",
        "print(classification_report(y_test, y_pred_cart, target_names=['low risk', 'mid risk', 'high risk']))\n",
        "\n",
        "# Gerar a Matriz de Confusão\n",
        "cm_cart = confusion_matrix(y_test, y_pred_cart)\n",
        "\n",
        "# Imprimir a Matriz de Confusão\n",
        "print(\"\\nMatriz de Confusão para Árvore de Decisão:\")\n",
        "print(cm_cart)"
      ],
      "metadata": {
        "id": "1QLWO5LJfWgn"
      },
      "execution_count": null,
      "outputs": []
    },
    {
      "cell_type": "markdown",
      "source": [
        "Avaliação Detalhada dos Modelos\n",
        "\n",
        "Modelo XGBoost\n",
        "\n",
        "Acurácia: 0.78\n",
        "\n",
        "A acurácia de 78% no conjunto de teste é ligeiramente inferior à da validação cruzada (0.8464), o que é esperado. Isso mostra que o modelo está generalizando bem, mas não de forma perfeita.\n",
        "\n",
        "Desempenho por Classe (Relatório de Classificação):\n",
        "\n",
        "High Risk: O modelo se destacou na classe de alto risco, com uma precisão de 85% e uma revocação de 88%. Isso é muito importante em um problema médico, pois significa que o modelo é muito bom em identificar corretamente os casos de maior risco.\n",
        "\n",
        "Mid Risk: O desempenho para o risco médio é bom, com precisão e revocação de 73%.\n",
        "\n",
        "Low Risk: O desempenho para o risco baixo é sólido, com precisão de 79% e revocação de 77%.\n",
        "\n",
        "Matriz de Confusão:\n",
        "\n",
        "A matriz [[90 24 3], [21 82 9], [3 6 67]] confirma a força do modelo na classe de alto risco. Ele classificou corretamente 67 dos 76 casos de alto risco (última linha), errando apenas 9 vezes (classificando-os como baixo ou médio risco).\n",
        "\n",
        "Modelo Árvore de Decisão\n",
        "\n",
        "Acurácia: 0.80\n",
        "\n",
        "A acurácia de 80% no conjunto de teste é muito boa e até um pouco superior à do XGBoost neste caso específico. Isso sugere que a Árvore de Decisão, com seus parâmetros otimizados, se adaptou de forma mais robusta a este conjunto de dados de teste.\n",
        "\n",
        "Desempenho por Classe (Relatório de Classificação):\n",
        "\n",
        "High Risk: Assim como o XGBoost, a Árvore de Decisão também tem um excelente desempenho para a classe de alto risco, com uma precisão de 84% e uma impressionante revocação de 91%.\n",
        "\n",
        "Low Risk: O modelo é forte na classe de baixo risco, com precisão de 84% e revocação de 75%.\n",
        "\n",
        "Matriz de Confusão:\n",
        "\n",
        "A matriz [[88 25 4], [16 87 9], [1 6 69]] mostra um desempenho ligeiramente melhor na identificação de casos de alto risco. Ele classificou corretamente 69 dos 76 casos, errando apenas 7 vezes.\n",
        "\n",
        "Conclusão e Recomendações\n",
        "\n",
        "Ambos os modelos mostraram um desempenho notável, com a Árvore de Decisão apresentando uma leve vantagem na acurácia e, principalmente, na capacidade de identificar casos de alto risco (recall de 91%).\n",
        "\n",
        "Em um cenário de saúde, a revocação da classe de \"alto risco\" é a métrica mais crítica. É preferível que o modelo classifique um caso de baixo risco como alto (um \"falso positivo\") do que o contrário, pois isso garante que um paciente em risco não seja ignorado.\n",
        "\n",
        "Com base nos resultados, o modelo de Árvore de Decisão otimizado é a melhor escolha para este problema, pois ele tem a maior capacidade de identificar corretamente os casos de alto risco.\n",
        "\n",
        "Você pode continuar aprimorando seu projeto focando nos seguintes pontos:\n",
        "\n",
        "Otimizar a Árvore de Decisão para a revocação: É possível configurar a busca de hiperparâmetros para otimizar especificamente para a métrica de \"revocação ponderada\" ou \"f1-score ponderado\", o que pode elevar ainda mais o desempenho da classe de alto risco.\n",
        "\n",
        "Analisar os erros do modelo: Explore os 7 casos de alto risco que a Árvore de Decisão não conseguiu identificar corretamente. O que eles têm em comum? Essa análise pode revelar insights valiosos sobre o que o modelo ainda não está capturando."
      ],
      "metadata": {
        "id": "1_qnMRwFgHVy"
      }
    },
    {
      "cell_type": "markdown",
      "source": [
        "Ótimo! Para aprimorar ainda mais o seu trabalho, aqui está o código comentado para as duas próximas etapas que você mencionou.\n",
        "\n",
        "1. Otimizando para uma Métrica Específica (Revocação)\n",
        "\n",
        "Como a revocação para a classe \"alto risco\" é a métrica mais importante em um contexto de saúde, podemos configurar a busca de hiperparâmetros para otimizar diretamente essa métrica, em vez da acurácia geral. Isso incentiva o modelo a se concentrar em não perder casos de alto risco.\n",
        "\n",
        "O código abaixo mostra como reexecutar o GridSearchCV para a Árvore de Decisão, mas com o scoring definido para 'recall_weighted', que calcula a revocação para cada classe e encontra a média ponderada, sendo uma métrica mais robusta."
      ],
      "metadata": {
        "id": "9BItT_OLgh56"
      }
    },
    {
      "cell_type": "code",
      "source": [
        "# ==============================================================================\n",
        "# 1. AJUSTE DE HIPERPARÂMETROS OTIMIZANDO PARA REVOCAÇÃO (RECALL)\n",
        "# ==============================================================================\n",
        "\n",
        "print(\"Ajustando hiperparâmetros para Árvore de Decisão otimizando para 'recall_weighted'...\")\n",
        "\n",
        "# Definir a mesma grade de parâmetros\n",
        "param_grid_cart = {\n",
        "    'criterion': ['gini', 'entropy'],\n",
        "    'max_depth': [None, 5, 10, 15, 20],\n",
        "    'min_samples_split': [2, 5, 10],\n",
        "    'min_samples_leaf': [1, 2, 4]\n",
        "}\n",
        "\n",
        "# Criar o modelo base\n",
        "model_cart = DecisionTreeClassifier(random_state=7)\n",
        "\n",
        "# Configurar o GridSearchCV para OTIMIZAR O RECALL\n",
        "grid_search_cart_recall = GridSearchCV(\n",
        "    estimator=model_cart,\n",
        "    param_grid=param_grid_cart,\n",
        "    scoring='recall_weighted', # AQUI ESTÁ A MUDANÇA!\n",
        "    cv=kfold,\n",
        "    verbose=1,\n",
        "    n_jobs=-1\n",
        ")\n",
        "\n",
        "# Executar a busca\n",
        "grid_search_cart_recall.fit(X_train, y_train)\n",
        "\n",
        "# Imprimir os melhores resultados\n",
        "print(f\"\\nMelhor revocação ponderada para Árvore de Decisão: {grid_search_cart_recall.best_score_:.4f}\")\n",
        "print(f\"Melhores parâmetros para Árvore de Decisão: {grid_search_cart_recall.best_params_}\")\n",
        "\n",
        "# Obter o novo melhor modelo\n",
        "best_cart_model_recall = grid_search_cart_recall.best_estimator_\n",
        "\n",
        "# Fazer a avaliação final no conjunto de teste com o novo modelo\n",
        "y_pred_cart_recall = best_cart_model_recall.predict(X_test)\n",
        "print(\"\\n--- Avaliação Final do Modelo Otimizado para Revocação ---\")\n",
        "print(classification_report(y_test, y_pred_cart_recall, target_names=['low risk', 'mid risk', 'high risk']))"
      ],
      "metadata": {
        "id": "6JHbXVcTgiuh"
      },
      "execution_count": null,
      "outputs": []
    },
    {
      "cell_type": "markdown",
      "source": [
        "Avaliação da Otimização\n",
        "\n",
        "Resultados na Validação Cruzada: A melhor revocação ponderada para a Árvore de Decisão foi de 0.8336, com os parâmetros {'criterion': 'gini', 'max_depth': None, 'min_samples_leaf': 1, 'min_samples_split': 2}. Isso é o mesmo resultado que a acurácia da sua primeira busca, o que indica que os parâmetros que maximizam a acurácia também são os que maximizam a revocação neste caso. Essa consistência mostra que o modelo está bem ajustado.\n",
        "\n",
        "Avaliação Final no Conjunto de Teste\n",
        "\n",
        "A avaliação no conjunto de teste confirmou o excelente desempenho do modelo:\n",
        "\n",
        "Acurácia: 0.80\n",
        "\n",
        "A acurácia geral continua sólida, mostrando que o modelo é capaz de acertar a classificação em 80% dos casos.\n",
        "\n",
        "Desempenho por Classe (Relatório de Classificação):\n",
        "\n",
        "Revocação para 'high risk': 0.91 (91%)\n",
        "\n",
        "Revocação para 'mid risk': 0.78 (78%)\n",
        "\n",
        "Revocação para 'low risk': 0.75 (75%)\n",
        "\n",
        "O modelo manteve a revocação de 91% na classe mais crítica (high risk), que era seu objetivo. Isso significa que, dos 76 pacientes de alto risco no conjunto de teste, o modelo foi capaz de identificar corretamente 69 deles. Esse é um resultado excepcional para um projeto de machine learning na área da saúde.\n",
        "\n"
      ],
      "metadata": {
        "id": "3p3mOLdth2In"
      }
    },
    {
      "cell_type": "markdown",
      "source": [
        "2. Análise dos Erros do Modelo\n",
        "\n",
        "Para entender os casos que o modelo errou, podemos comparar as previsões com os valores reais no conjunto de teste. O código abaixo identifica e exibe os casos de alto risco que foram classificados incorretamente, o que é valioso para entender as limitações do modelo."
      ],
      "metadata": {
        "id": "-hbbMcrNgv5D"
      }
    },
    {
      "cell_type": "code",
      "source": [
        "# ==============================================================================\n",
        "# 2. ANÁLISE DETALHADA DOS ERROS DO MODELO\n",
        "# ==============================================================================\n",
        "\n",
        "print(\"\\n\\n--- Análise dos Casos de Alto Risco Classificados Incorretamente ---\")\n",
        "\n",
        "# Obter as previsões do melhor modelo (Árvore de Decisão original)\n",
        "y_pred = grid_search_cart.best_estimator_.predict(X_test)\n",
        "\n",
        "# Mapear os rótulos numéricos para texto para facilitar a visualização\n",
        "mapeamento_risco = {0: 'low risk', 1: 'mid risk', 2: 'high risk'}\n",
        "y_test_text = np.array([mapeamento_risco[val] for val in y_test])\n",
        "y_pred_text = np.array([mapeamento_risco[val] for val in y_pred])\n",
        "\n",
        "# 1. Encontrar as predições incorretas\n",
        "# Onde a previsão (y_pred) é diferente do valor real (y_test)\n",
        "incorrect_predictions = y_pred_text != y_test_text\n",
        "\n",
        "# 2. Encontrar os casos de ALTO RISCO que foram classificados incorretamente\n",
        "# Onde o valor real é 'high risk' e a previsão é diferente do valor real\n",
        "high_risk_misclassified = (y_test_text == 'high risk') & incorrect_predictions\n",
        "\n",
        "# 3. Filtrar os dados de teste para mostrar apenas os casos incorretos de alto risco\n",
        "df_erros = X_test.iloc[high_risk_misclassified].copy()\n",
        "\n",
        "# 4. Adicionar colunas com o valor real e a previsão para a análise\n",
        "df_erros['Nivel_Risco_Real'] = y_test_text[high_risk_misclassified]\n",
        "df_erros['Nivel_Risco_Previsto'] = y_pred_text[high_risk_misclassified]\n",
        "\n",
        "# Imprimir o DataFrame com os casos de erro\n",
        "print(f\"\\nNúmero de erros de classificação para 'high risk': {len(df_erros)}\")\n",
        "print(\"\\nDetalhes dos casos de 'high risk' classificados incorretamente:\")\n",
        "print(df_erros)"
      ],
      "metadata": {
        "id": "MHpsqZtUgzh3"
      },
      "execution_count": null,
      "outputs": []
    },
    {
      "cell_type": "markdown",
      "source": [
        "Avaliação da Análise de Erros\n",
        "\n",
        "O resultado que você obteve, identificando os 7 casos de alto risco que foram classificados incorretamente, é a essência de uma avaliação de modelo robusta.\n",
        "\n",
        "Pontos-Chave:\n",
        "\n",
        "Identificação do Risco: A matriz de confusão já havia indicado que 7 casos de alto risco não foram detectados (os 7 na linha de \"high risk\" e nas colunas de \"low risk\" e \"mid risk\"). Agora, você conseguiu identificar quais são esses casos, o que é um grande avanço.\n",
        "\n",
        "Padrões de Erro: Ao analisar as características desses 7 casos, é possível notar que, em sua maioria, o modelo os classificou como \"mid risk\". Isso sugere que a Árvore de Decisão não está ignorando completamente o risco, mas sim subestimando sua gravidade. Apenas um caso foi classificado como \"low risk\", o que é um ponto positivo.\n",
        "\n",
        "Fatores de Subestimação: Os dados desses casos mostram por que o modelo pode ter tido dificuldade:\n",
        "\n",
        "Pressão Arterial: Muitos dos casos não apresentam valores de pressão arterial excessivamente altos, mesmo sendo de alto risco. O modelo provavelmente tem um \"gatilho\" forte para pressões sistólica e diastólica elevadas, e a ausência desse gatilho faz com que a previsão não seja de \"alto risco\".\n",
        "\n",
        "Glicemia e Idade: Casos como o 680 e o 9 (ambos com idade 42 e glicemia 18.0) foram classificados como \"mid risk\". Isso indica que, embora o modelo reconheça a glicemia como um fator de risco, ele pode estar subestimando a combinação de glicose e idade, que em tese deveria ser um forte preditor.\n",
        "\n"
      ],
      "metadata": {
        "id": "0Cot9X_phYWA"
      }
    },
    {
      "cell_type": "markdown",
      "source": [
        "# 6. Conclusão Analise Exploratoria\n",
        "\n",
        "O objetivo principal deste MVP foi explorar as características de saúde em mulheres gestantes para identificar indicadores de risco e preparar os dados para futuras etapas de modelagem preditiva. Através de diversas etapas de análise, insights importantes foram obtidos:\n",
        "\n",
        "1. Preparação e Engenharia de Features:\n",
        "\n",
        "- Enriquecimento do Dataset: A criação da coluna Idade_35+ foi uma decisão estratégica baseada em conhecimento de domínio médico, reconhecendo que a idade gestacional a partir de 35 anos é um fator de risco comprovado. Esta feature binária é um preditor valioso que captura uma relação não-linear com o risco.\n",
        "- Codificação da Variável Alvo: A transformação da variável categórica Nivel_Risco em Nivel_Risco_Numerico (0=low risk, 1=mid risk, 2=high risk) foi uma etapa fundamental e necessária, convertendo os dados para um formato compreensível pelos algoritmos de Machine Learning.\n",
        "- Padronização dos Dados: A aplicação do StandardScaler nos dados de treino garantiu que todas as features numéricas tivessem média zero e desvio padrão um. A análise confirmou que esta etapa foi executada corretamente, mantendo as relações intrínsecas entre as variáveis (evidenciado pela estabilidade da matriz de correlação) e preparando o dataset para modelos sensíveis à escala das features.\n",
        "\n",
        "\n",
        "2. Análise de Correlação e Fatores de Risco:\n",
        "\n",
        "A matriz de correlação revelou insights cruciais sobre a associação linear entre as características de saúde e o nível de risco gestacional:\n",
        "\n",
        "- Principais Preditores de Risco: O Nível de Glicose demonstrou a associação positiva mais forte com o risco gestacional (0.5777), indicando que níveis mais altos de glicose estão fortemente ligados a um risco elevado. As Pressões Sistólica (0.3771) e Diastólica (0.3372) também se mostraram preditores importantes, com correlações positivas moderadas.\n",
        "Impacto da Idade: Tanto a Idade (0.2919) quanto a Idade_35+ (0.2953) apresentaram correlações positivas moderadas com o nível de risco, confirmando que a idade é um fator relevante.\n",
        "- Multicolinearidade: Foi identificada alta multicolinearidade entre Idade e Idade_35+ (0.8546), e entre Pressao_Sistolica e Pressao_Diastolica (0.7993). Embora isso não seja um problema para todos os modelos (ex: árvores de decisão), pode exigir atenção para modelos lineares, onde técnicas como PCA ou seleção de features podem ser consideradas.\n",
        "\n",
        "\n",
        "3. Respostas às hipóteses levantadas, em relação a idade gestacional 35+ (gestante com 35 anos ou mais):\n",
        "\n",
        "\n",
        "- Qual o percentual deste grupo de risco na amostra avaliada?\n",
        "No dataset avaliado, 31,36%% das gestantes pertencem ao grupo de idade maior ou igual a 35 anos (Idade_35+). Este é um grupo significativo na amostra, o que sublinha a importância de analisar seus perfis de risco.\n",
        "\n",
        "- Qual o percentual de gestação de alto risco? Dentro do nível de alto risco gestacional (righ risk), 48,4% são gestantes 35+. Um valor bastante significativo.\n",
        "\n",
        "- Qual a correlação entre a idade materna e o risco gestacional? A correlação variou pouco entre os dados originais, normalizados e padronizados, como era esperado. Em todos eles a correlação se mostrou relativamente fraca a moderada. Isso significa que, à medida que a idade da gestante aumenta, há uma tendência de o risco gestacional também aumentar, embora a força da correlação sugere que a idade por si só não explica uma grande parte da variação no nível de risco, outros fatores também contribuem para aumentar o risco, como por exemplo, diabetes gestacional que possui correlação positiva mais forte com o nível de risco.\n",
        "\n",
        "\n",
        "\n",
        "Próximos Passos:\n",
        "\n",
        "Com os dados limpos, transformados e as relações iniciais compreendidas, o próximo passo lógico e crucial é a construção e avaliação de modelos de Machine Learning.\n",
        "Este MVP estabeleceu uma base sólida e insights valiosos para o desenvolvimento de um sistema preditivo robusto para a avaliação de risco gestacional."
      ],
      "metadata": {
        "id": "OY_GDjf1G-PM"
      }
    }
  ]
}